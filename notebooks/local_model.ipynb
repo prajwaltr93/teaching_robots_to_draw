{
  "nbformat": 4,
  "nbformat_minor": 0,
  "metadata": {
    "accelerator": "GPU",
    "colab": {
      "name": "local_model.ipynb",
      "provenance": [],
      "collapsed_sections": []
    },
    "kernelspec": {
      "display_name": "Python 3",
      "name": "python3"
    }
  },
  "cells": [
    {
      "cell_type": "markdown",
      "metadata": {
        "id": "n9cjtHPHMzt-"
      },
      "source": [
        "Extract Data\n",
        "\n",
        "Extract kanjivg_modified.tar.gz into working directory"
      ]
    },
    {
      "cell_type": "code",
      "metadata": {
        "id": "rri7GZzmM0HT"
      },
      "source": [
        "# imports \n",
        "import tarfile\n",
        "from os import path, chdir\n",
        "\n",
        "# constants \n",
        "working_directory = \"/content/drive/My Drive/train_local_model/\"\n",
        "\n",
        "# setup environment\n",
        "chdir(working_directory)\n",
        "\n",
        "# extract tar file of svg's\n",
        "fname = './assets/kanjivg_modified.tar.gz'\n",
        "\n",
        "if not path.isdir('./kanji_modified'):\n",
        "  print('kanji modified svgs not found !, extracting ...')\n",
        "  tar = tarfile.open(fname, \"r:gz\")\n",
        "  tar.extractall()\n",
        "  tar.close()"
      ],
      "execution_count": 25,
      "outputs": []
    },
    {
      "cell_type": "markdown",
      "metadata": {
        "id": "LSXMz5PpNGoj"
      },
      "source": [
        "Data Generator \n",
        "\n",
        "Extract Modified svg's and create data batches to feed into the model"
      ]
    },
    {
      "cell_type": "code",
      "metadata": {
        "id": "GyDB7CMrNUDb"
      },
      "source": [
        "from local_strokegenerator import *\n",
        "\n",
        "# data generator\n",
        "\n",
        "def inp_data_generator(filelist, epochs, steps_per_epoch, batch_size):\n",
        "  for epoch in range(epochs):\n",
        "    # get a new generator, same dataset on each epoch\n",
        "    stroke_gen = strokeGenerator(filelist)\n",
        "    for step in range(steps_per_epoch):\n",
        "      # place holder for samples generated every batch\n",
        "      inp_batch = []\n",
        "      ext_batch = []\n",
        "      touch_batch = []\n",
        "      cropped_batch = []  \n",
        "      for batch in range(batch_size):\n",
        "        inp, ext, touch, croppedimg = next(stroke_gen)\n",
        "        inp_batch.append(inp)\n",
        "        ext_batch.append(ext)\n",
        "        touch_batch.append(touch)\n",
        "        cropped_batch.append(np.reshape(croppedimg, 5*5)) # reshape 5 * 5 image to array of length 25 \n",
        "      yield [np.array(inp_batch), np.array(ext_batch)], [np.array(touch_batch), np.array(cropped_batch)] # [x1, x2], [y1, y2]"
      ],
      "execution_count": 26,
      "outputs": []
    },
    {
      "cell_type": "markdown",
      "metadata": {
        "id": "qr0ledplzUsz"
      },
      "source": [
        "Constants and Magic Numbers"
      ]
    },
    {
      "cell_type": "code",
      "metadata": {
        "id": "D5c9E-R2vJoH"
      },
      "source": [
        "batch_size = 128\n",
        "inp_img_dim = [100, 100, 3]\n",
        "inp_ext_dim = [3]\n",
        "epochs = 5\n",
        "\n",
        "from os import walk\n",
        "path = \"./kanji_modified/\"\n",
        "_, _, filelist = next(walk(path))\n",
        "\n",
        "train_samples = 250000\n",
        "train_files = filelist\n",
        "train_steps_per_epoch = train_samples // batch_size\n",
        "\n",
        "validation_samples = 20000\n",
        "validation_files = filelist[::-1]# get samples from back of file list\n",
        "validation_steps_per_epoch = validation_samples // batch_size\n",
        "\n",
        "train_data = inp_data_generator(train_files, epochs, train_steps_per_epoch, batch_size)\n",
        "validation_data = inp_data_generator(validation_files, epochs + 3, validation_steps_per_epoch, batch_size)\n"
      ],
      "execution_count": 38,
      "outputs": []
    },
    {
      "cell_type": "markdown",
      "metadata": {
        "id": "ZiVhHolLEloi"
      },
      "source": [
        "Residual Block \n",
        "\n",
        "Convolution channels in each of four blocks are [[16,16], [16,32], [32,32],[32,64]]\n"
      ]
    },
    {
      "cell_type": "code",
      "metadata": {
        "id": "Ni3UGg541F6u"
      },
      "source": [
        "#residual module\n",
        "\n",
        "# test : 1*1 conv before add layer\n",
        "def res_module_0(inp):\n",
        "    x = BatchNormalization()(inp)\n",
        "    x = Activation(\"relu\")(x)\n",
        "    x = Conv2D(16, 3,padding=\"same\")(x) \n",
        "    x = BatchNormalization()(x)\n",
        "    x = Activation(\"relu\")(x)\n",
        "    x = Conv2D(16, 3,padding=\"same\")(x)\n",
        "    if not inp.shape[-1] == 16:\n",
        "        #project with 1x1 convolution\n",
        "        con = Conv2D(16,1)(inp)\n",
        "    out = add([x, con])\n",
        "    return out\n",
        "\n",
        "#residual module\n",
        "def res_module_1(inp):\n",
        "    x = BatchNormalization()(inp)\n",
        "    x = Activation(\"relu\")(x)\n",
        "    x = Conv2D(16, 3,padding=\"same\",)(x)\n",
        "    x = BatchNormalization()(x)\n",
        "    x = Activation(\"relu\")(x)\n",
        "    x = Conv2D(16, 3,padding=\"same\")(x)\n",
        "    out = add([x, inp])\n",
        "    return out\n",
        "\n",
        "#residual module\n",
        "def res_module_2(inp):\n",
        "    x = BatchNormalization()(inp)\n",
        "    x = Activation(\"relu\")(x)\n",
        "    x = Conv2D(16, 3,padding=\"same\")(x)\n",
        "    x = BatchNormalization()(x)\n",
        "    x = Activation(\"relu\")(x)\n",
        "    x = Conv2D(32, 3,padding=\"same\")(x)\n",
        "    if not inp.shape[-1] == 32:\n",
        "        #project with 1x1 convolution\n",
        "        con = Conv2D(32,1)(inp)\n",
        "    out = add([x, con])\n",
        "    return out\n",
        "\n",
        "#residual module\n",
        "def res_module_3(inp):\n",
        "    x = BatchNormalization()(inp)\n",
        "    x = Activation(\"relu\")(x)\n",
        "    x = Conv2D(32, 3,padding=\"same\")(x)\n",
        "    x = BatchNormalization()(x)\n",
        "    x = Activation(\"relu\")(x)\n",
        "    x = Conv2D(64, 3,padding=\"same\")(x)\n",
        "    if not inp.shape[-1] == 64:\n",
        "        #project with 1x1 convolution\n",
        "        con = Conv2D(64,1)(inp)\n",
        "    out = add([x, con])\n",
        "    return out"
      ],
      "execution_count": 29,
      "outputs": []
    },
    {
      "cell_type": "markdown",
      "metadata": {
        "id": "E9WMRTiZ28UO"
      },
      "source": [
        "Building Model\n",
        "\n",
        "4 Block Residual block with dynamic tensor extraction \n",
        "\n",
        "two input, two output model (keras functional API)"
      ]
    },
    {
      "cell_type": "code",
      "metadata": {
        "id": "uPf1WzhdHN2D"
      },
      "source": [
        "from tensorflow.keras.models import Model\n",
        "from tensorflow.keras.layers import Input\n",
        "from tensorflow.keras.layers import Activation\n",
        "from tensorflow.keras.layers import Conv2D\n",
        "from tensorflow.keras.layers import Dense\n",
        "from tensorflow.keras.layers import Flatten\n",
        "# from tensorflow.keras.layers import MaxPooling2D\n",
        "from tensorflow.keras.layers import add\n",
        "from tensorflow.keras.layers import Dropout\n",
        "from tensorflow.keras.layers import BatchNormalization\n",
        "\n",
        "# force graph building by disabling eager execution\n",
        "import tensorflow as tf\n",
        "tf.compat.v1.disable_eager_execution()\n",
        "tf.compat.v1.experimental.output_all_intermediates(True)"
      ],
      "execution_count": null,
      "outputs": []
    },
    {
      "cell_type": "code",
      "metadata": {
        "id": "CQRyVtVR23Oz",
        "outputId": "9594fd0f-1b45-4864-ca23-ccf3b2fbc936",
        "colab": {
          "base_uri": "https://localhost:8080/",
          "height": 1000
        }
      },
      "source": [
        "# tensor slice \n",
        "def slice_return(x):\n",
        "  return tf.slice(x[0], x[1], [5,5,64])\n",
        "\n",
        "#creating local model\n",
        "inp = Input(shape = inp_img_dim, name = \"lg_inp\")\n",
        "ext_inp = Input(shape = inp_ext_dim, dtype = tf.int32, name = \"ext_inp\")\n",
        "\n",
        "#four residual module stacked \n",
        "x_a = res_module_0(inp)\n",
        "x_a = res_module_1(x_a)\n",
        "x_a = res_module_2(x_a)\n",
        "x_a = res_module_3(x_a)\n",
        "\n",
        "# now x is 95 * 65 * 54 res encoded tensor, now carry out extraction procedure to enforce localization\n",
        "# batch_size is Dynamic, Unknown or of type None, hence using map_fn to iterate over dimention '0' --> None\n",
        "extracted_tensor = tf.map_fn(slice_return, elems = (x_a, ext_inp), dtype = (tf.float32))\n",
        "\n",
        "x_0 = Flatten()(extracted_tensor) #flatten and feed to dense layer\n",
        "\n",
        "#fully connected layer 1\n",
        "\n",
        "# x1 = Dense(256, activation='relu')(x_0)\n",
        "\n",
        "x1 = Dense(128, activation='relu')(x_0)\n",
        "\n",
        "#fully connected layer 2\n",
        "\n",
        "x2 = Dense(1, activation='sigmoid', name = 'out_touch')(x1)\n",
        "\n",
        "#fully connected layer 3\n",
        "x3 = Dense(25, activation='softmax', name = 'out_cropped')(x1)\n",
        "\n",
        "# x3 = tf.reshape(x3, (5,5)) #output a 5 * 5 image\n",
        "\n",
        "model = Model(inputs= [inp, ext_inp], outputs= [x2,x3])\n",
        "\n",
        "model.summary()"
      ],
      "execution_count": 30,
      "outputs": [
        {
          "output_type": "stream",
          "text": [
            "Model: \"functional_5\"\n",
            "__________________________________________________________________________________________________\n",
            "Layer (type)                    Output Shape         Param #     Connected to                     \n",
            "==================================================================================================\n",
            "lg_inp (InputLayer)             [(None, 100, 100, 3) 0                                            \n",
            "__________________________________________________________________________________________________\n",
            "batch_normalization_16 (BatchNo (None, 100, 100, 3)  12          lg_inp[0][0]                     \n",
            "__________________________________________________________________________________________________\n",
            "activation_16 (Activation)      (None, 100, 100, 3)  0           batch_normalization_16[0][0]     \n",
            "__________________________________________________________________________________________________\n",
            "conv2d_22 (Conv2D)              (None, 100, 100, 16) 448         activation_16[0][0]              \n",
            "__________________________________________________________________________________________________\n",
            "batch_normalization_17 (BatchNo (None, 100, 100, 16) 64          conv2d_22[0][0]                  \n",
            "__________________________________________________________________________________________________\n",
            "activation_17 (Activation)      (None, 100, 100, 16) 0           batch_normalization_17[0][0]     \n",
            "__________________________________________________________________________________________________\n",
            "conv2d_23 (Conv2D)              (None, 100, 100, 16) 2320        activation_17[0][0]              \n",
            "__________________________________________________________________________________________________\n",
            "conv2d_24 (Conv2D)              (None, 100, 100, 16) 64          lg_inp[0][0]                     \n",
            "__________________________________________________________________________________________________\n",
            "add_8 (Add)                     (None, 100, 100, 16) 0           conv2d_23[0][0]                  \n",
            "                                                                 conv2d_24[0][0]                  \n",
            "__________________________________________________________________________________________________\n",
            "batch_normalization_18 (BatchNo (None, 100, 100, 16) 64          add_8[0][0]                      \n",
            "__________________________________________________________________________________________________\n",
            "activation_18 (Activation)      (None, 100, 100, 16) 0           batch_normalization_18[0][0]     \n",
            "__________________________________________________________________________________________________\n",
            "conv2d_25 (Conv2D)              (None, 100, 100, 16) 2320        activation_18[0][0]              \n",
            "__________________________________________________________________________________________________\n",
            "batch_normalization_19 (BatchNo (None, 100, 100, 16) 64          conv2d_25[0][0]                  \n",
            "__________________________________________________________________________________________________\n",
            "activation_19 (Activation)      (None, 100, 100, 16) 0           batch_normalization_19[0][0]     \n",
            "__________________________________________________________________________________________________\n",
            "conv2d_26 (Conv2D)              (None, 100, 100, 16) 2320        activation_19[0][0]              \n",
            "__________________________________________________________________________________________________\n",
            "add_9 (Add)                     (None, 100, 100, 16) 0           conv2d_26[0][0]                  \n",
            "                                                                 add_8[0][0]                      \n",
            "__________________________________________________________________________________________________\n",
            "batch_normalization_20 (BatchNo (None, 100, 100, 16) 64          add_9[0][0]                      \n",
            "__________________________________________________________________________________________________\n",
            "activation_20 (Activation)      (None, 100, 100, 16) 0           batch_normalization_20[0][0]     \n",
            "__________________________________________________________________________________________________\n",
            "conv2d_27 (Conv2D)              (None, 100, 100, 16) 2320        activation_20[0][0]              \n",
            "__________________________________________________________________________________________________\n",
            "batch_normalization_21 (BatchNo (None, 100, 100, 16) 64          conv2d_27[0][0]                  \n",
            "__________________________________________________________________________________________________\n",
            "activation_21 (Activation)      (None, 100, 100, 16) 0           batch_normalization_21[0][0]     \n",
            "__________________________________________________________________________________________________\n",
            "conv2d_28 (Conv2D)              (None, 100, 100, 32) 4640        activation_21[0][0]              \n",
            "__________________________________________________________________________________________________\n",
            "conv2d_29 (Conv2D)              (None, 100, 100, 32) 544         add_9[0][0]                      \n",
            "__________________________________________________________________________________________________\n",
            "add_10 (Add)                    (None, 100, 100, 32) 0           conv2d_28[0][0]                  \n",
            "                                                                 conv2d_29[0][0]                  \n",
            "__________________________________________________________________________________________________\n",
            "batch_normalization_22 (BatchNo (None, 100, 100, 32) 128         add_10[0][0]                     \n",
            "__________________________________________________________________________________________________\n",
            "activation_22 (Activation)      (None, 100, 100, 32) 0           batch_normalization_22[0][0]     \n",
            "__________________________________________________________________________________________________\n",
            "conv2d_30 (Conv2D)              (None, 100, 100, 32) 9248        activation_22[0][0]              \n",
            "__________________________________________________________________________________________________\n",
            "batch_normalization_23 (BatchNo (None, 100, 100, 32) 128         conv2d_30[0][0]                  \n",
            "__________________________________________________________________________________________________\n",
            "activation_23 (Activation)      (None, 100, 100, 32) 0           batch_normalization_23[0][0]     \n",
            "__________________________________________________________________________________________________\n",
            "conv2d_31 (Conv2D)              (None, 100, 100, 64) 18496       activation_23[0][0]              \n",
            "__________________________________________________________________________________________________\n",
            "conv2d_32 (Conv2D)              (None, 100, 100, 64) 2112        add_10[0][0]                     \n",
            "__________________________________________________________________________________________________\n",
            "add_11 (Add)                    (None, 100, 100, 64) 0           conv2d_31[0][0]                  \n",
            "                                                                 conv2d_32[0][0]                  \n",
            "__________________________________________________________________________________________________\n",
            "tf_op_layer_map_2/Shape (Tensor [(4,)]               0           add_11[0][0]                     \n",
            "__________________________________________________________________________________________________\n",
            "tf_op_layer_map_2/strided_slice [()]                 0           tf_op_layer_map_2/Shape[0][0]    \n",
            "__________________________________________________________________________________________________\n",
            "ext_inp (InputLayer)            [(None, 3)]          0                                            \n",
            "__________________________________________________________________________________________________\n",
            "tf_op_layer_map_2/TensorArrayV2 [()]                 0           tf_op_layer_map_2/strided_slice[0\n",
            "__________________________________________________________________________________________________\n",
            "tf_op_layer_map_2/TensorArrayUn [()]                 0           add_11[0][0]                     \n",
            "__________________________________________________________________________________________________\n",
            "tf_op_layer_map_2/TensorArrayUn [()]                 0           ext_inp[0][0]                    \n",
            "__________________________________________________________________________________________________\n",
            "tf_op_layer_map_2/while/EmptyTe [()]                 0           tf_op_layer_map_2/strided_slice[0\n",
            "__________________________________________________________________________________________________\n",
            "tf_op_layer_map_2/while/EmptyTe [()]                 0           tf_op_layer_map_2/strided_slice[0\n",
            "__________________________________________________________________________________________________\n",
            "tf_op_layer_map_2/while/EmptyTe [()]                 0           tf_op_layer_map_2/strided_slice[0\n",
            "__________________________________________________________________________________________________\n",
            "tf_op_layer_map_2/while/EmptyTe [()]                 0           tf_op_layer_map_2/strided_slice[0\n",
            "__________________________________________________________________________________________________\n",
            "tf_op_layer_map_2/while/EmptyTe [()]                 0           tf_op_layer_map_2/strided_slice[0\n",
            "__________________________________________________________________________________________________\n",
            "tf_op_layer_map_2/while/EmptyTe [()]                 0           tf_op_layer_map_2/strided_slice[0\n",
            "__________________________________________________________________________________________________\n",
            "tf_op_layer_map_2/while/EmptyTe [()]                 0           tf_op_layer_map_2/strided_slice[0\n",
            "__________________________________________________________________________________________________\n",
            "tf_op_layer_map_2/while/EmptyTe [()]                 0           tf_op_layer_map_2/strided_slice[0\n",
            "__________________________________________________________________________________________________\n",
            "tf_op_layer_map_2/while/EmptyTe [()]                 0           tf_op_layer_map_2/strided_slice[0\n",
            "__________________________________________________________________________________________________\n",
            "tf_op_layer_map_2/while/EmptyTe [()]                 0           tf_op_layer_map_2/strided_slice[0\n",
            "__________________________________________________________________________________________________\n",
            "tf_op_layer_map_2/while/EmptyTe [()]                 0           tf_op_layer_map_2/strided_slice[0\n",
            "__________________________________________________________________________________________________\n",
            "tf_op_layer_map_2/while/EmptyTe [()]                 0           tf_op_layer_map_2/strided_slice[0\n",
            "__________________________________________________________________________________________________\n",
            "tf_op_layer_map_2/while/EmptyTe [()]                 0           tf_op_layer_map_2/strided_slice[0\n",
            "__________________________________________________________________________________________________\n",
            "tf_op_layer_map_2/while/EmptyTe [()]                 0           tf_op_layer_map_2/strided_slice[0\n",
            "__________________________________________________________________________________________________\n",
            "tf_op_layer_map_2/while (Tensor [(), (), (), (), (), 0           tf_op_layer_map_2/strided_slice[0\n",
            "                                                                 tf_op_layer_map_2/TensorArrayV2_2\n",
            "                                                                 tf_op_layer_map_2/strided_slice[0\n",
            "                                                                 tf_op_layer_map_2/TensorArrayUnst\n",
            "                                                                 tf_op_layer_map_2/TensorArrayUnst\n",
            "                                                                 tf_op_layer_map_2/while/EmptyTens\n",
            "                                                                 tf_op_layer_map_2/while/EmptyTens\n",
            "                                                                 tf_op_layer_map_2/while/EmptyTens\n",
            "                                                                 tf_op_layer_map_2/while/EmptyTens\n",
            "                                                                 tf_op_layer_map_2/while/EmptyTens\n",
            "                                                                 tf_op_layer_map_2/while/EmptyTens\n",
            "                                                                 tf_op_layer_map_2/while/EmptyTens\n",
            "                                                                 tf_op_layer_map_2/while/EmptyTens\n",
            "                                                                 tf_op_layer_map_2/while/EmptyTens\n",
            "                                                                 tf_op_layer_map_2/while/EmptyTens\n",
            "                                                                 tf_op_layer_map_2/while/EmptyTens\n",
            "                                                                 tf_op_layer_map_2/while/EmptyTens\n",
            "                                                                 tf_op_layer_map_2/while/EmptyTens\n",
            "                                                                 tf_op_layer_map_2/while/EmptyTens\n",
            "__________________________________________________________________________________________________\n",
            "tf_op_layer_map_2/while/Identit [()]                 0           tf_op_layer_map_2/while[0][3]    \n",
            "__________________________________________________________________________________________________\n",
            "tf_op_layer_map_2/TensorArrayV2 [(None, 5, 5, 64)]   0           tf_op_layer_map_2/while/Identity_\n",
            "__________________________________________________________________________________________________\n",
            "flatten_2 (Flatten)             (None, 1600)         0           tf_op_layer_map_2/TensorArrayV2St\n",
            "__________________________________________________________________________________________________\n",
            "dense_2 (Dense)                 (None, 128)          204928      flatten_2[0][0]                  \n",
            "__________________________________________________________________________________________________\n",
            "out_touch (Dense)               (None, 1)            129         dense_2[0][0]                    \n",
            "__________________________________________________________________________________________________\n",
            "out_cropped (Dense)             (None, 25)           3225        dense_2[0][0]                    \n",
            "==================================================================================================\n",
            "Total params: 253,702\n",
            "Trainable params: 253,408\n",
            "Non-trainable params: 294\n",
            "__________________________________________________________________________________________________\n"
          ],
          "name": "stdout"
        }
      ]
    },
    {
      "cell_type": "code",
      "metadata": {
        "id": "5BeRAZ3l3SH9"
      },
      "source": [
        "model.compile(loss=[tf.keras.losses.BinaryCrossentropy(),tf.keras.losses.CategoricalCrossentropy()],\n",
        "              optimizer='adam', metrics = ['accuracy'], loss_weights = [0.2, 1])"
      ],
      "execution_count": 31,
      "outputs": []
    },
    {
      "cell_type": "code",
      "metadata": {
        "id": "bgIbzBi-5hyy",
        "outputId": "5ddd3a08-1cad-4632-8ee9-050992428048",
        "colab": {
          "base_uri": "https://localhost:8080/",
          "height": 211
        }
      },
      "source": [
        "history = model.fit(train_data, validation_data = validation_data, validation_steps = validation_steps_per_epoch, steps_per_epoch =  train_steps_per_epoch, epochs = epochs)"
      ],
      "execution_count": 39,
      "outputs": [
        {
          "output_type": "stream",
          "text": [
            "Epoch 1/5\n",
            "1953/1953 [==============================] - 507s 259ms/step - batch: 976.0000 - size: 128.0000 - loss: 0.2198 - out_touch_loss: 3.9003e-04 - out_cropped_loss: 0.2198 - out_touch_accuracy: 0.9999 - out_cropped_accuracy: 0.9099 - val_loss: 0.2367 - val_out_touch_loss: 3.1038e-04 - val_out_cropped_loss: 0.2367 - val_out_touch_accuracy: 0.9999 - val_out_cropped_accuracy: 0.9095\n",
            "Epoch 2/5\n",
            "1953/1953 [==============================] - 506s 259ms/step - batch: 976.0000 - size: 128.0000 - loss: 0.2144 - out_touch_loss: 3.9298e-04 - out_cropped_loss: 0.2143 - out_touch_accuracy: 0.9999 - out_cropped_accuracy: 0.9119 - val_loss: 0.2331 - val_out_touch_loss: 5.1341e-05 - val_out_cropped_loss: 0.2331 - val_out_touch_accuracy: 1.0000 - val_out_cropped_accuracy: 0.9107\n",
            "Epoch 3/5\n",
            "1953/1953 [==============================] - 508s 260ms/step - batch: 976.0000 - size: 128.0000 - loss: 0.2104 - out_touch_loss: 2.5341e-04 - out_cropped_loss: 0.2104 - out_touch_accuracy: 0.9999 - out_cropped_accuracy: 0.9136 - val_loss: 0.2360 - val_out_touch_loss: 2.0921e-04 - val_out_cropped_loss: 0.2360 - val_out_touch_accuracy: 0.9999 - val_out_cropped_accuracy: 0.9111\n",
            "Epoch 4/5\n",
            "1953/1953 [==============================] - 505s 258ms/step - batch: 976.0000 - size: 128.0000 - loss: 0.2061 - out_touch_loss: 2.6748e-04 - out_cropped_loss: 0.2061 - out_touch_accuracy: 0.9999 - out_cropped_accuracy: 0.9157 - val_loss: 0.2375 - val_out_touch_loss: 7.8739e-05 - val_out_cropped_loss: 0.2375 - val_out_touch_accuracy: 1.0000 - val_out_cropped_accuracy: 0.9087\n",
            "Epoch 5/5\n",
            "1953/1953 [==============================] - 505s 259ms/step - batch: 976.0000 - size: 128.0000 - loss: 0.2030 - out_touch_loss: 1.6698e-04 - out_cropped_loss: 0.2030 - out_touch_accuracy: 1.0000 - out_cropped_accuracy: 0.9169 - val_loss: 0.2342 - val_out_touch_loss: 4.7592e-06 - val_out_cropped_loss: 0.2342 - val_out_touch_accuracy: 1.0000 - val_out_cropped_accuracy: 0.9119\n"
          ],
          "name": "stdout"
        }
      ]
    },
    {
      "cell_type": "code",
      "metadata": {
        "id": "Wo1gfXfI7UVV",
        "outputId": "285d9c54-3fe5-48f6-f789-034095324485",
        "colab": {
          "base_uri": "https://localhost:8080/",
          "height": 265
        }
      },
      "source": [
        "import matplotlib.pyplot as plt\n",
        "history = history.history\n",
        "plt.plot(history['loss'], 'r')\n",
        "plt.plot(history['val_loss'], 'g')\n",
        "plt.plot(history['out_cropped_accuracy'], 'p')\n",
        "plt.plot(history['val_out_cropped_accuracy'], 'y')\n",
        "plt.savefig('local_model_batch_sample+', fmt='PNG')"
      ],
      "execution_count": 40,
      "outputs": [
        {
          "output_type": "display_data",
          "data": {
            "image/png": "[encoded data removed]",
            "text/plain": [
              "<Figure size 432x288 with 1 Axes>"
            ]
          },
          "metadata": {
            "tags": [],
            "needs_background": "light"
          }
        }
      ]
    },
    {
      "cell_type": "code",
      "metadata": {
        "id": "qc16K0X-7of3",
        "outputId": "b8998fd0-7a08-42de-8a58-6bd0feb08acc",
        "colab": {
          "base_uri": "https://localhost:8080/",
          "height": 54
        }
      },
      "source": [
        "# test model loss and accuracy\n",
        "\n",
        "from random import sample\n",
        "\n",
        "test_filelist = sample(filelist, 1000) # choose 1000 random files\n",
        "\n",
        "test_data = inp_data_generator(test_filelist, 1, 10, 64)\n",
        "\n",
        "loss, touch_loss, cropped_loss, touch_accuracy, cropped_accuracy =  model.evaluate(test_data, steps = 10)\n",
        "print('testing model on random data from dataset total loss : %f, touch_loss : %f, cropped_loss = %f, touch_accuracy : %f, cropped_accuracy : %f' % (loss, touch_loss, cropped_loss, touch_accuracy, cropped_accuracy))"
      ],
      "execution_count": 43,
      "outputs": [
        {
          "output_type": "stream",
          "text": [
            "testing model on random data from dataset total loss : 0.201293, touch_loss : 0.000011, cropped_loss = 0.201290, touch_accuracy : 1.000000, cropped_accuracy : 0.925000\n"
          ],
          "name": "stdout"
        }
      ]
    },
    {
      "cell_type": "code",
      "metadata": {
        "id": "9dH7Udt5bQcZ",
        "outputId": "5c605140-7162-4c2b-b3ed-8ca914af9a3b",
        "colab": {
          "base_uri": "https://localhost:8080/",
          "height": 34
        }
      },
      "source": [
        "model.save('local_model_128bs+')"
      ],
      "execution_count": 44,
      "outputs": [
        {
          "output_type": "stream",
          "text": [
            "INFO:tensorflow:Assets written to: local_model_128bs+/assets\n"
          ],
          "name": "stdout"
        }
      ]
    },
    {
      "cell_type": "code",
      "metadata": {
        "id": "ptqm3CsH0MNj"
      },
      "source": [
        ""
      ],
      "execution_count": null,
      "outputs": []
    }
  ]
}