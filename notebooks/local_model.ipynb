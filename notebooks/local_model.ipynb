{
 "cells": [
  {
   "cell_type": "markdown",
   "metadata": {
    "id": "n9cjtHPHMzt-"
   },
   "source": [
    "Extract Data\n",
    "\n",
    "Extract kanjivg_modified.tar.gz into working directory"
   ]
  },
  {
   "cell_type": "code",
   "execution_count": null,
   "metadata": {
    "id": "rri7GZzmM0HT"
   },
   "outputs": [],
   "source": [
    "# imports \n",
    "import tarfile\n",
    "from os import path, chdir\n",
    "\n",
    "# constants \n",
    "working_directory = \"/content/drive/My Drive/train_local_model/\"\n",
    "\n",
    "# setup environment\n",
    "chdir(working_directory)\n",
    "\n",
    "# extract tar file of svg's\n",
    "fname = './assets/kanji_modified.tar.gz'\n",
    "\n",
    "if not path.isdir('./assets/kanji_modified'):\n",
    "  print('kanji modified svgs not found !, extracting ...')\n",
    "  tar = tarfile.open(fname, \"r:gz\")\n",
    "  tar.extractall(path=\"./assets/\")\n",
    "  tar.close()"
   ]
  },
  {
   "cell_type": "markdown",
   "metadata": {
    "id": "LSXMz5PpNGoj"
   },
   "source": [
    "Data Generator \n",
    "\n",
    "Extract Modified svg's and create data batches to feed into the model"
   ]
  },
  {
   "cell_type": "code",
   "execution_count": null,
   "metadata": {
    "id": "GyDB7CMrNUDb"
   },
   "outputs": [],
   "source": [
    "from local_strokegenerator import *\n",
    "\n",
    "# data generator\n",
    "\n",
    "def inp_data_generator(filelist, epochs, steps_per_epoch, batch_size):\n",
    "  for epoch in range(epochs):\n",
    "    # get a new generator, same dataset on each epoch\n",
    "    stroke_gen = strokeGenerator(filelist)\n",
    "    for step in range(steps_per_epoch):\n",
    "      # place holder for samples generated every batch\n",
    "      inp_batch = []\n",
    "      ext_batch = []\n",
    "      touch_batch = []\n",
    "      cropped_batch = []  \n",
    "      for batch in range(batch_size):\n",
    "        inp, ext, touch, croppedimg = next(stroke_gen)\n",
    "        inp_batch.append(inp)\n",
    "        ext_batch.append(ext)\n",
    "        touch_batch.append(touch)\n",
    "        cropped_batch.append(np.reshape(croppedimg, 5*5)) # reshape 5 * 5 image to array of length 25 \n",
    "      yield [np.array(inp_batch), np.array(ext_batch)], [np.array(touch_batch), np.array(cropped_batch)] # [x1, x2], [y1, y2]"
   ]
  },
  {
   "cell_type": "markdown",
   "metadata": {
    "id": "qr0ledplzUsz"
   },
   "source": [
    "Constants and Magic Numbers"
   ]
  },
  {
   "cell_type": "code",
   "execution_count": null,
   "metadata": {
    "colab": {
     "base_uri": "https://localhost:8080/"
    },
    "id": "D5c9E-R2vJoH",
    "outputId": "be2e898e-80c2-462f-ca08-00b984b67fa3"
   },
   "outputs": [
    {
     "name": "stdout",
     "output_type": "stream",
     "text": [
      "file count :  11401\n"
     ]
    }
   ],
   "source": [
    "batch_size = 128\n",
    "epochs = 20\n",
    "\n",
    "from os import walk\n",
    "path = \"./assets/kanji_modified/\"\n",
    "_, _, filelist = next(walk(path))\n",
    "\n",
    "print(\"file count : \", len(filelist))"
   ]
  },
  {
   "cell_type": "code",
   "execution_count": null,
   "metadata": {
    "id": "Pv0msPCdSaNP"
   },
   "outputs": [],
   "source": [
    "train_samples = 1700000\n",
    "train_files = filelist\n",
    "train_steps_per_epoch = train_samples // batch_size\n",
    "\n",
    "validation_samples = 40000\n",
    "validation_files = filelist[::-1]# get samples from end of file list\n",
    "validation_steps_per_epoch = validation_samples // batch_size\n",
    "\n",
    "train_data = inp_data_generator(train_files, epochs, train_steps_per_epoch, batch_size)\n",
    "validation_data = inp_data_generator(validation_files, epochs + 3, validation_steps_per_epoch, batch_size)"
   ]
  },
  {
   "cell_type": "markdown",
   "metadata": {
    "id": "ZiVhHolLEloi"
   },
   "source": [
    "Residual Block \n",
    "\n",
    "Convolution channels in each of four blocks are [[16,16], [16,32], [32,32],[32,64]]\n"
   ]
  },
  {
   "cell_type": "code",
   "execution_count": null,
   "metadata": {
    "id": "uPf1WzhdHN2D"
   },
   "outputs": [],
   "source": [
    "from tensorflow.keras.models import Model\n",
    "from tensorflow.keras.layers import Input\n",
    "from tensorflow.keras.layers import Activation\n",
    "from tensorflow.keras.layers import Conv2D\n",
    "from tensorflow.keras.layers import Dense\n",
    "from tensorflow.keras.layers import Flatten\n",
    "# from tensorflow.keras.layers import MaxPooling2D\n",
    "from tensorflow.keras.layers import add\n",
    "from tensorflow.keras.layers import Dropout\n",
    "from tensorflow.keras.layers import BatchNormalization\n",
    "\n",
    "# force graph building by disabling eager execution\n",
    "import tensorflow as tf\n",
    "tf.compat.v1.disable_eager_execution()\n",
    "tf.compat.v1.experimental.output_all_intermediates(True)"
   ]
  },
  {
   "cell_type": "code",
   "execution_count": null,
   "metadata": {
    "id": "Ni3UGg541F6u"
   },
   "outputs": [],
   "source": [
    "#residual module\n",
    "inp_img_dim = [100, 100, 3]\n",
    "inp_ext_dim = [3]\n",
    "# test : 1*1 conv before add layer\n",
    "inp = Input(shape=(100, 100, 16))\n",
    "x = BatchNormalization()(inp)\n",
    "x = Activation(\"relu\")(x)\n",
    "x = Conv2D(16, 3,padding=\"same\")(x) \n",
    "x = BatchNormalization()(x)\n",
    "x = Activation(\"relu\")(x)\n",
    "x = Conv2D(16, 3,padding=\"same\")(x)\n",
    "out = add([x, inp])\n",
    "res_block_16 = Model(inputs=inp, outputs=out)\n",
    "\n",
    "inp = Input(shape=(100, 100, 16))\n",
    "x = BatchNormalization()(inp)\n",
    "x = Activation(\"relu\")(x)\n",
    "x = Conv2D(16, 3,padding=\"same\")(x) \n",
    "x = BatchNormalization()(x)\n",
    "x = Activation(\"relu\")(x)\n",
    "x = Conv2D(16, 3,padding=\"same\")(x)\n",
    "out = add([x, inp])\n",
    "res_block_16_1 = Model(inputs=inp, outputs=out)\n",
    "\n",
    "#residual module\n",
    "inp = Input(shape=(100, 100, 16))\n",
    "x = BatchNormalization()(inp)\n",
    "x = Activation(\"relu\")(x)\n",
    "x = Conv2D(16, 3,padding=\"same\")(x) \n",
    "x = BatchNormalization()(x)\n",
    "x = Activation(\"relu\")(x)\n",
    "x = Conv2D(32, 3,padding=\"same\")(x)\n",
    "if not inp.shape[-1] == 32:\n",
    "  #project with 1x1 convolution\n",
    "  con = Conv2D(32,1)(inp)\n",
    "out = add([x, con])\n",
    "res_block_32 = Model(inputs=inp, outputs=out)\n",
    "\n",
    "#residual module\n",
    "inp = Input(shape=(100, 100, 32))\n",
    "x = BatchNormalization()(inp)\n",
    "x = Activation(\"relu\")(x)\n",
    "x = Conv2D(16, 3,padding=\"same\")(x) \n",
    "x = BatchNormalization()(x)\n",
    "x = Activation(\"relu\")(x)\n",
    "x = Conv2D(64, 3,padding=\"same\")(x)\n",
    "if not inp.shape[-1] == 64:\n",
    "  #project with 1x1 convolution\n",
    "  con = Conv2D(64,1)(inp)\n",
    "out = add([x, con])\n",
    "res_block_64 = Model(inputs=inp, outputs=out)"
   ]
  },
  {
   "cell_type": "markdown",
   "metadata": {
    "id": "E9WMRTiZ28UO"
   },
   "source": [
    "Building Model\n",
    "\n",
    "4 Block Residual block with dynamic tensor extraction \n",
    "\n",
    "two input, two output model (keras functional API)"
   ]
  },
  {
   "cell_type": "code",
   "execution_count": null,
   "metadata": {
    "colab": {
     "base_uri": "https://localhost:8080/"
    },
    "id": "CQRyVtVR23Oz",
    "outputId": "fa96cd71-c099-445a-df56-5be668bfdf15"
   },
   "outputs": [
    {
     "name": "stdout",
     "output_type": "stream",
     "text": [
      "Model: \"functional_9\"\n",
      "__________________________________________________________________________________________________\n",
      "Layer (type)                    Output Shape         Param #     Connected to                     \n",
      "==================================================================================================\n",
      "lg_inp (InputLayer)             [(None, 100, 100, 3) 0                                            \n",
      "__________________________________________________________________________________________________\n",
      "conv2d_10 (Conv2D)              (None, 100, 100, 16) 448         lg_inp[0][0]                     \n",
      "__________________________________________________________________________________________________\n",
      "functional_1 (Functional)       (None, 100, 100, 16) 4768        conv2d_10[0][0]                  \n",
      "__________________________________________________________________________________________________\n",
      "functional_3 (Functional)       (None, 100, 100, 16) 4768        functional_1[0][0]               \n",
      "__________________________________________________________________________________________________\n",
      "functional_5 (Functional)       (None, 100, 100, 32) 7632        functional_3[0][0]               \n",
      "__________________________________________________________________________________________________\n",
      "functional_7 (Functional)       (None, 100, 100, 64) 16208       functional_5[0][0]               \n",
      "__________________________________________________________________________________________________\n",
      "tf_op_layer_map/Shape (TensorFl [(4,)]               0           functional_7[0][0]               \n",
      "__________________________________________________________________________________________________\n",
      "tf_op_layer_map/strided_slice ( [()]                 0           tf_op_layer_map/Shape[0][0]      \n",
      "__________________________________________________________________________________________________\n",
      "ext_inp (InputLayer)            [(None, 3)]          0                                            \n",
      "__________________________________________________________________________________________________\n",
      "tf_op_layer_map/TensorArrayV2_2 [()]                 0           tf_op_layer_map/strided_slice[0][\n",
      "__________________________________________________________________________________________________\n",
      "tf_op_layer_map/TensorArrayUnst [()]                 0           functional_7[0][0]               \n",
      "__________________________________________________________________________________________________\n",
      "tf_op_layer_map/TensorArrayUnst [()]                 0           ext_inp[0][0]                    \n",
      "__________________________________________________________________________________________________\n",
      "tf_op_layer_map/while/EmptyTens [()]                 0           tf_op_layer_map/strided_slice[0][\n",
      "__________________________________________________________________________________________________\n",
      "tf_op_layer_map/while/EmptyTens [()]                 0           tf_op_layer_map/strided_slice[0][\n",
      "__________________________________________________________________________________________________\n",
      "tf_op_layer_map/while/EmptyTens [()]                 0           tf_op_layer_map/strided_slice[0][\n",
      "__________________________________________________________________________________________________\n",
      "tf_op_layer_map/while/EmptyTens [()]                 0           tf_op_layer_map/strided_slice[0][\n",
      "__________________________________________________________________________________________________\n",
      "tf_op_layer_map/while/EmptyTens [()]                 0           tf_op_layer_map/strided_slice[0][\n",
      "__________________________________________________________________________________________________\n",
      "tf_op_layer_map/while/EmptyTens [()]                 0           tf_op_layer_map/strided_slice[0][\n",
      "__________________________________________________________________________________________________\n",
      "tf_op_layer_map/while/EmptyTens [()]                 0           tf_op_layer_map/strided_slice[0][\n",
      "__________________________________________________________________________________________________\n",
      "tf_op_layer_map/while/EmptyTens [()]                 0           tf_op_layer_map/strided_slice[0][\n",
      "__________________________________________________________________________________________________\n",
      "tf_op_layer_map/while/EmptyTens [()]                 0           tf_op_layer_map/strided_slice[0][\n",
      "__________________________________________________________________________________________________\n",
      "tf_op_layer_map/while/EmptyTens [()]                 0           tf_op_layer_map/strided_slice[0][\n",
      "__________________________________________________________________________________________________\n",
      "tf_op_layer_map/while/EmptyTens [()]                 0           tf_op_layer_map/strided_slice[0][\n",
      "__________________________________________________________________________________________________\n",
      "tf_op_layer_map/while/EmptyTens [()]                 0           tf_op_layer_map/strided_slice[0][\n",
      "__________________________________________________________________________________________________\n",
      "tf_op_layer_map/while/EmptyTens [()]                 0           tf_op_layer_map/strided_slice[0][\n",
      "__________________________________________________________________________________________________\n",
      "tf_op_layer_map/while/EmptyTens [()]                 0           tf_op_layer_map/strided_slice[0][\n",
      "__________________________________________________________________________________________________\n",
      "tf_op_layer_map/while (TensorFl [(), (), (), (), (), 0           tf_op_layer_map/strided_slice[0][\n",
      "                                                                 tf_op_layer_map/TensorArrayV2_2[0\n",
      "                                                                 tf_op_layer_map/strided_slice[0][\n",
      "                                                                 tf_op_layer_map/TensorArrayUnstac\n",
      "                                                                 tf_op_layer_map/TensorArrayUnstac\n",
      "                                                                 tf_op_layer_map/while/EmptyTensor\n",
      "                                                                 tf_op_layer_map/while/EmptyTensor\n",
      "                                                                 tf_op_layer_map/while/EmptyTensor\n",
      "                                                                 tf_op_layer_map/while/EmptyTensor\n",
      "                                                                 tf_op_layer_map/while/EmptyTensor\n",
      "                                                                 tf_op_layer_map/while/EmptyTensor\n",
      "                                                                 tf_op_layer_map/while/EmptyTensor\n",
      "                                                                 tf_op_layer_map/while/EmptyTensor\n",
      "                                                                 tf_op_layer_map/while/EmptyTensor\n",
      "                                                                 tf_op_layer_map/while/EmptyTensor\n",
      "                                                                 tf_op_layer_map/while/EmptyTensor\n",
      "                                                                 tf_op_layer_map/while/EmptyTensor\n",
      "                                                                 tf_op_layer_map/while/EmptyTensor\n",
      "                                                                 tf_op_layer_map/while/EmptyTensor\n",
      "__________________________________________________________________________________________________\n",
      "tf_op_layer_map/while/Identity_ [()]                 0           tf_op_layer_map/while[0][3]      \n",
      "__________________________________________________________________________________________________\n",
      "tf_op_layer_map/TensorArrayV2St [(None, 5, 5, 64)]   0           tf_op_layer_map/while/Identity_3[\n",
      "__________________________________________________________________________________________________\n",
      "flatten (Flatten)               (None, 1600)         0           tf_op_layer_map/TensorArrayV2Stac\n",
      "__________________________________________________________________________________________________\n",
      "dense (Dense)                   (None, 128)          204928      flatten[0][0]                    \n",
      "__________________________________________________________________________________________________\n",
      "out_touch (Dense)               (None, 1)            129         dense[0][0]                      \n",
      "__________________________________________________________________________________________________\n",
      "out_cropped (Dense)             (None, 25)           3225        dense[0][0]                      \n",
      "==================================================================================================\n",
      "Total params: 242,106\n",
      "Trainable params: 241,818\n",
      "Non-trainable params: 288\n",
      "__________________________________________________________________________________________________\n"
     ]
    }
   ],
   "source": [
    "# tensor slice \n",
    "def slice_return(x):\n",
    "  return tf.slice(x[0], x[1], [5,5,64])\n",
    "\n",
    "#creating local model\n",
    "inp = Input(shape = inp_img_dim, dtype=tf.float32, name = \"lg_inp\")\n",
    "ext_inp = Input(shape = inp_ext_dim, dtype = tf.int32, name = \"ext_inp\")\n",
    "\n",
    "# initilization layer, helpful in transfer learning, due to different input layers, between global and local models\n",
    "conv = Conv2D(16, 3, padding='same')(inp)\n",
    "#four residual block stacked \n",
    "x_a = res_block_16(conv) \n",
    "x_a = res_block_16_1(x_a) \n",
    "x_a = res_block_32(x_a) \n",
    "x_a = res_block_64(x_a)\n",
    "\n",
    "# now x is 95 * 65 * 54 res encoded tensor, now carry out extraction procedure to enforce localization\n",
    "# batch_size is Dynamic, Unknown or of type None, hence using map_fn to iterate over dimention '0' --> None\n",
    "extracted_tensor = tf.map_fn(slice_return, elems = (x_a, ext_inp), fn_output_signature=tf.float32)\n",
    "\n",
    "x_0 = Flatten()(extracted_tensor) #flatten and feed to dense layer\n",
    "\n",
    "#fully connected layer 1\n",
    "\n",
    "# x1 = Dense(256, activation='relu')(x_0)\n",
    "\n",
    "x1 = Dense(128, activation='relu')(x_0)\n",
    "\n",
    "#fully connected layer 2\n",
    "\n",
    "x2 = Dense(1, activation='sigmoid', name = 'out_touch')(x1)\n",
    "\n",
    "#fully connected layer 3\n",
    "x3 = Dense(25, activation='softmax', name = 'out_cropped')(x1)\n",
    "\n",
    "# x3 = tf.reshape(x3, (5,5)) #output a 5 * 5 image\n",
    "\n",
    "model = Model(inputs= [inp, ext_inp], outputs= [x2,x3])\n",
    "\n",
    "model.summary()"
   ]
  },
  {
   "cell_type": "code",
   "execution_count": null,
   "metadata": {
    "id": "5BeRAZ3l3SH9"
   },
   "outputs": [],
   "source": [
    "model.compile(loss=[tf.keras.losses.BinaryCrossentropy(),tf.keras.losses.CategoricalCrossentropy()],\n",
    "              optimizer='adam', metrics = ['accuracy'], loss_weights = [0.2, 1])"
   ]
  },
  {
   "cell_type": "code",
   "execution_count": null,
   "metadata": {
    "id": "ngG5RNcqDHCR"
   },
   "outputs": [],
   "source": [
    "# call backs to ensure optimal training\n",
    "from tensorflow.keras.callbacks import EarlyStopping \n",
    "\n",
    "early_stop = EarlyStopping(monitor=\"val_out_cropped_loss\", mode=\"min\")"
   ]
  },
  {
   "cell_type": "code",
   "execution_count": null,
   "metadata": {
    "colab": {
     "base_uri": "https://localhost:8080/"
    },
    "id": "bgIbzBi-5hyy",
    "outputId": "764d3dfe-2e54-44b9-ef23-9256521401c3"
   },
   "outputs": [
    {
     "name": "stdout",
     "output_type": "stream",
     "text": [
      "Epoch 1/20\n",
      "13281/13281 [==============================] - ETA: 0s - batch: 6640.0000 - size: 128.0000 - loss: 0.1208 - out_touch_loss: 0.0016 - out_cropped_loss: 0.1205 - out_touch_accuracy: 0.9996 - out_cropped_accuracy: 0.9565WARNING:tensorflow:From /usr/local/lib/python3.6/dist-packages/tensorflow/python/keras/engine/training_v1.py:2048: Model.state_updates (from tensorflow.python.keras.engine.training) is deprecated and will be removed in a future version.\n",
      "Instructions for updating:\n",
      "This property should not be used in TensorFlow 2.0, as updates are applied automatically.\n",
      "13281/13281 [==============================] - 6182s 465ms/step - batch: 6640.0000 - size: 128.0000 - loss: 0.1208 - out_touch_loss: 0.0016 - out_cropped_loss: 0.1205 - out_touch_accuracy: 0.9996 - out_cropped_accuracy: 0.9565 - val_loss: 0.1075 - val_out_touch_loss: 1.6939e-04 - val_out_cropped_loss: 0.1075 - val_out_touch_accuracy: 0.9999 - val_out_cropped_accuracy: 0.9597\n",
      "Epoch 2/20\n",
      "13281/13281 [==============================] - 6135s 462ms/step - batch: 6640.0000 - size: 128.0000 - loss: 0.0991 - out_touch_loss: 1.9663e-04 - out_cropped_loss: 0.0990 - out_touch_accuracy: 0.9999 - out_cropped_accuracy: 0.9628 - val_loss: 0.0966 - val_out_touch_loss: 2.9285e-04 - val_out_cropped_loss: 0.0965 - val_out_touch_accuracy: 0.9999 - val_out_cropped_accuracy: 0.9650\n",
      "Epoch 3/20\n",
      "13281/13281 [==============================] - 6138s 462ms/step - batch: 6640.0000 - size: 128.0000 - loss: 0.0940 - out_touch_loss: 1.1095e-04 - out_cropped_loss: 0.0940 - out_touch_accuracy: 1.0000 - out_cropped_accuracy: 0.9644 - val_loss: 0.0976 - val_out_touch_loss: 2.3771e-05 - val_out_cropped_loss: 0.0976 - val_out_touch_accuracy: 1.0000 - val_out_cropped_accuracy: 0.9642\n"
     ]
    }
   ],
   "source": [
    "history = model.fit(train_data, validation_data = validation_data, validation_steps = validation_steps_per_epoch, steps_per_epoch =  train_steps_per_epoch, epochs = epochs, callbacks = [early_stop])"
   ]
  },
  {
   "cell_type": "code",
   "execution_count": null,
   "metadata": {
    "colab": {
     "base_uri": "https://localhost:8080/",
     "height": 267
    },
    "id": "Wo1gfXfI7UVV",
    "outputId": "aedcaa2f-0395-4369-e8ac-4acb8b48e186"
   },
   "outputs": [
    {
     "data": {
      "image/png": "[encoded data removed]",
      "text/plain": [
       "<Figure size 432x288 with 1 Axes>"
      ]
     },
     "metadata": {
      "needs_background": "light",
      "tags": []
     },
     "output_type": "display_data"
    }
   ],
   "source": [
    "import matplotlib.pyplot as plt\n",
    "history = history.history\n",
    "plt.plot(history['loss'], 'r', label=\"train_loss\")\n",
    "plt.plot(history['val_loss'], 'g', label='validation_loss')\n",
    "plt.plot(history['out_cropped_accuracy'], 'b', label='train_cropped_accuracy')\n",
    "plt.plot(history['val_out_cropped_accuracy'], 'y', label = 'validation accuracy')\n",
    "plt.savefig('local_model_firstattempt', fmt='PNG')"
   ]
  },
  {
   "cell_type": "code",
   "execution_count": null,
   "metadata": {
    "colab": {
     "base_uri": "https://localhost:8080/"
    },
    "id": "qc16K0X-7of3",
    "outputId": "6f21a5d0-9ffc-4c9d-ba77-fb4eaa46a108"
   },
   "outputs": [
    {
     "name": "stdout",
     "output_type": "stream",
     "text": [
      "testing model on random data from dataset total loss : 0.087605, touch_loss : 0.000001, cropped_loss = 0.087605, touch_accuracy : 1.000000, cropped_accuracy : 0.970312\n"
     ]
    }
   ],
   "source": [
    "# test model loss and accuracy\n",
    "from random import sample\n",
    "\n",
    "test_filelist = sample(filelist[::-1], 1000) # choose 1000 random files\n",
    "\n",
    "test_data = inp_data_generator(test_filelist, 1, 10, 64)\n",
    "\n",
    "loss, touch_loss, cropped_loss, touch_accuracy, cropped_accuracy =  model.evaluate(test_data, steps = 10)\n",
    "print('testing model on random data from dataset total loss : %f, touch_loss : %f, cropped_loss = %f, touch_accuracy : %f, cropped_accuracy : %f' % (loss, touch_loss, cropped_loss, touch_accuracy, cropped_accuracy))"
   ]
  },
  {
   "cell_type": "code",
   "execution_count": null,
   "metadata": {
    "id": "9dH7Udt5bQcZ"
   },
   "outputs": [],
   "source": [
    "# save residiual block weights for transfer learning\n",
    "res_blocks = {'res_block_16' : res_block_16, 'res_block_16_1' : res_block_16_1, 'res_block_32' : res_block_32, 'res_block_64' : res_block_64}\n",
    "\n",
    "res_blocks_path = './res_block_weights/'\n",
    "for key, item in res_blocks.items():\n",
    "  item.save_weights(res_blocks_path + key)"
   ]
  },
  {
   "cell_type": "code",
   "execution_count": null,
   "metadata": {
    "id": "GwItrWPNXKRm"
   },
   "outputs": [],
   "source": [
    "# save whole model weights for inference\n",
    "model.save_weights(\"saved_weights/local_model_trained_17mil\")"
   ]
  },
  {
   "cell_type": "code",
   "execution_count": null,
   "metadata": {
    "id": "oSkKeRW01xNn"
   },
   "outputs": [],
   "source": []
  }
 ],
 "metadata": {
  "accelerator": "GPU",
  "colab": {
   "collapsed_sections": [],
   "name": "local_model.ipynb",
   "provenance": []
  },
  "kernelspec": {
   "display_name": "Python 3",
   "language": "python",
   "name": "python3"
  },
  "language_info": {
   "codemirror_mode": {
    "name": "ipython",
    "version": 3
   },
   "file_extension": ".py",
   "mimetype": "text/x-python",
   "name": "python",
   "nbconvert_exporter": "python",
   "pygments_lexer": "ipython3",
   "version": "3.6.9"
  }
 },
 "nbformat": 4,
 "nbformat_minor": 1
}
