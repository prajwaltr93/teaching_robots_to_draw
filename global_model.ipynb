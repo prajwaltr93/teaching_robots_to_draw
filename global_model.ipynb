{
  "nbformat": 4,
  "nbformat_minor": 0,
  "metadata": {
    "kernelspec": {
      "display_name": "Python 3",
      "language": "python",
      "name": "python3"
    },
    "language_info": {
      "codemirror_mode": {
        "name": "ipython",
        "version": 3
      },
      "file_extension": ".py",
      "mimetype": "text/x-python",
      "name": "python",
      "nbconvert_exporter": "python",
      "pygments_lexer": "ipython3",
      "version": "3.6.9"
    },
    "colab": {
      "name": "res_net_2blocks.ipynb",
      "provenance": [],
      "collapsed_sections": []
    }
  },
  "cells": [
    {
      "cell_type": "code",
      "metadata": {
        "id": "hqOP7BuB8q1E",
        "colab_type": "code",
        "colab": {
          "base_uri": "https://localhost:8080/",
          "height": 124
        },
        "outputId": "b95c5146-7fc3-4536-fc34-847246c8ade6"
      },
      "source": [
        "#mount GDrive\n",
        "from google.colab import drive\n",
        "drive.mount('/content/gdrive')\n"
      ],
      "execution_count": 3,
      "outputs": [
        {
          "output_type": "stream",
          "text": [
            "Go to this URL in a browser: https://accounts.google.com/o/oauth2/auth?client_id=947318989803-6bn6qk8qdgf4n4g3pfee6491hc0brc4i.apps.googleusercontent.com&redirect_uri=urn%3aietf%3awg%3aoauth%3a2.0%3aoob&response_type=code&scope=email%20https%3a%2f%2fwww.googleapis.com%2fauth%2fdocs.test%20https%3a%2f%2fwww.googleapis.com%2fauth%2fdrive%20https%3a%2f%2fwww.googleapis.com%2fauth%2fdrive.photos.readonly%20https%3a%2f%2fwww.googleapis.com%2fauth%2fpeopleapi.readonly\n",
            "\n",
            "Enter your authorization code:\n",
            "··········\n",
            "Mounted at /content/gdrive\n"
          ],
          "name": "stdout"
        }
      ]
    },
    {
      "cell_type": "code",
      "metadata": {
        "id": "T4L1RX5WOMgJ",
        "colab_type": "code",
        "colab": {}
      },
      "source": [
        "import os\n",
        "\n",
        "os.chdir(\"/content/gdrive/My Drive/data/hershey_data\")"
      ],
      "execution_count": 4,
      "outputs": []
    },
    {
      "cell_type": "code",
      "metadata": {
        "id": "0xTzb8iu8q1i",
        "colab_type": "code",
        "colab": {}
      },
      "source": [
        "import pickle as pic\n",
        "import numpy as np\n",
        "raw_data = pic.load(open(\"./data_batch_0\",\"rb\"),encoding=\"bytes\")"
      ],
      "execution_count": 5,
      "outputs": []
    },
    {
      "cell_type": "code",
      "metadata": {
        "id": "rcTWmobS8q1_",
        "colab_type": "code",
        "colab": {
          "base_uri": "https://localhost:8080/",
          "height": 34
        },
        "outputId": "e7186196-8382-472b-8840-a021091170ff"
      },
      "source": [
        "in_data = raw_data['sG_data']\n",
        "labels = raw_data['sG_labels']\n",
        "print(len(labels))"
      ],
      "execution_count": 6,
      "outputs": [
        {
          "output_type": "stream",
          "text": [
            "1549\n"
          ],
          "name": "stdout"
        }
      ]
    },
    {
      "cell_type": "code",
      "metadata": {
        "id": "xcYKYArK8q2X",
        "colab_type": "code",
        "colab": {
          "base_uri": "https://localhost:8080/",
          "height": 1000
        },
        "outputId": "a4f194fc-ad01-488c-b299-dfc046a28d11"
      },
      "source": [
        "import tensorflow as tf\n",
        "from tensorflow.keras.models import Model\n",
        "from tensorflow.keras.layers import Input\n",
        "from tensorflow.keras.layers import Activation\n",
        "from tensorflow.keras.layers import Conv2D\n",
        "from tensorflow.keras.layers import Dense\n",
        "from tensorflow.keras.layers import Flatten\n",
        "from tensorflow.keras.layers import MaxPooling2D\n",
        "from tensorflow.keras.layers import add\n",
        "from tensorflow.keras.utils import plot_model\n",
        "from tensorflow.keras.layers import BatchNormalization\n",
        "from keras.optimizers import SGD\n",
        "#residual module\n",
        "#residual module\n",
        "def res_module(inp):\n",
        "    if not inp.shape[-1] == 64:\n",
        "        #project with 1x1 convolution\n",
        "        inp = Conv2D(64,1,activation=\"relu\")(inp)\n",
        "    x = BatchNormalization()(inp)\n",
        "    x = Activation(\"relu\")(x)\n",
        "    x = Conv2D(16, 3,padding=\"same\",activation=\"sigmoid\")(x)\n",
        "    x = Conv2D(32, 3,padding=\"same\",activation=\"sigmoid\")(x)\n",
        "    x = Conv2D(64, 3,padding=\"same\",activation=\"sigmoid\")(x)\n",
        "    x = BatchNormalization()(x)\n",
        "    x = Activation(\"relu\")(x)\n",
        "    x = Conv2D(16, 3,padding=\"same\",activation=\"sigmoid\")(x)\n",
        "    x = Conv2D(32, 3,padding=\"same\",activation=\"sigmoid\")(x)\n",
        "    x = Conv2D(64, 3,padding=\"same\",activation=\"sigmoid\")(x)\n",
        "    out = add([x, inp])\n",
        "    return out\n",
        "\n",
        "#two block res module\n",
        "inp = Input(shape=(95, 60, 4))\n",
        "x_a = res_module(inp)\n",
        "x_a = res_module(x_a)\n",
        "x_a = res_module(x_a)\n",
        "x_a = res_module(x_a)\n",
        "x_a = MaxPooling2D(7)(x_a)\n",
        "x_a = Flatten()(x_a)\n",
        "out = Dense(5700,activation='softmax')(x_a)\n",
        "# create model\n",
        "model = Model(inputs=inp, outputs=out)\n",
        "# summarize model\n",
        "model.summary()\n"
      ],
      "execution_count": 51,
      "outputs": [
        {
          "output_type": "stream",
          "text": [
            "Model: \"functional_13\"\n",
            "__________________________________________________________________________________________________\n",
            "Layer (type)                    Output Shape         Param #     Connected to                     \n",
            "==================================================================================================\n",
            "input_7 (InputLayer)            [(None, 95, 60, 4)]  0                                            \n",
            "__________________________________________________________________________________________________\n",
            "conv2d_150 (Conv2D)             (None, 95, 60, 64)   320         input_7[0][0]                    \n",
            "__________________________________________________________________________________________________\n",
            "batch_normalization_48 (BatchNo (None, 95, 60, 64)   256         conv2d_150[0][0]                 \n",
            "__________________________________________________________________________________________________\n",
            "activation_48 (Activation)      (None, 95, 60, 64)   0           batch_normalization_48[0][0]     \n",
            "__________________________________________________________________________________________________\n",
            "conv2d_151 (Conv2D)             (None, 95, 60, 16)   9232        activation_48[0][0]              \n",
            "__________________________________________________________________________________________________\n",
            "conv2d_152 (Conv2D)             (None, 95, 60, 32)   4640        conv2d_151[0][0]                 \n",
            "__________________________________________________________________________________________________\n",
            "conv2d_153 (Conv2D)             (None, 95, 60, 64)   18496       conv2d_152[0][0]                 \n",
            "__________________________________________________________________________________________________\n",
            "batch_normalization_49 (BatchNo (None, 95, 60, 64)   256         conv2d_153[0][0]                 \n",
            "__________________________________________________________________________________________________\n",
            "activation_49 (Activation)      (None, 95, 60, 64)   0           batch_normalization_49[0][0]     \n",
            "__________________________________________________________________________________________________\n",
            "conv2d_154 (Conv2D)             (None, 95, 60, 16)   9232        activation_49[0][0]              \n",
            "__________________________________________________________________________________________________\n",
            "conv2d_155 (Conv2D)             (None, 95, 60, 32)   4640        conv2d_154[0][0]                 \n",
            "__________________________________________________________________________________________________\n",
            "conv2d_156 (Conv2D)             (None, 95, 60, 64)   18496       conv2d_155[0][0]                 \n",
            "__________________________________________________________________________________________________\n",
            "add_24 (Add)                    (None, 95, 60, 64)   0           conv2d_156[0][0]                 \n",
            "                                                                 conv2d_150[0][0]                 \n",
            "__________________________________________________________________________________________________\n",
            "batch_normalization_50 (BatchNo (None, 95, 60, 64)   256         add_24[0][0]                     \n",
            "__________________________________________________________________________________________________\n",
            "activation_50 (Activation)      (None, 95, 60, 64)   0           batch_normalization_50[0][0]     \n",
            "__________________________________________________________________________________________________\n",
            "conv2d_157 (Conv2D)             (None, 95, 60, 16)   9232        activation_50[0][0]              \n",
            "__________________________________________________________________________________________________\n",
            "conv2d_158 (Conv2D)             (None, 95, 60, 32)   4640        conv2d_157[0][0]                 \n",
            "__________________________________________________________________________________________________\n",
            "conv2d_159 (Conv2D)             (None, 95, 60, 64)   18496       conv2d_158[0][0]                 \n",
            "__________________________________________________________________________________________________\n",
            "batch_normalization_51 (BatchNo (None, 95, 60, 64)   256         conv2d_159[0][0]                 \n",
            "__________________________________________________________________________________________________\n",
            "activation_51 (Activation)      (None, 95, 60, 64)   0           batch_normalization_51[0][0]     \n",
            "__________________________________________________________________________________________________\n",
            "conv2d_160 (Conv2D)             (None, 95, 60, 16)   9232        activation_51[0][0]              \n",
            "__________________________________________________________________________________________________\n",
            "conv2d_161 (Conv2D)             (None, 95, 60, 32)   4640        conv2d_160[0][0]                 \n",
            "__________________________________________________________________________________________________\n",
            "conv2d_162 (Conv2D)             (None, 95, 60, 64)   18496       conv2d_161[0][0]                 \n",
            "__________________________________________________________________________________________________\n",
            "add_25 (Add)                    (None, 95, 60, 64)   0           conv2d_162[0][0]                 \n",
            "                                                                 add_24[0][0]                     \n",
            "__________________________________________________________________________________________________\n",
            "batch_normalization_52 (BatchNo (None, 95, 60, 64)   256         add_25[0][0]                     \n",
            "__________________________________________________________________________________________________\n",
            "activation_52 (Activation)      (None, 95, 60, 64)   0           batch_normalization_52[0][0]     \n",
            "__________________________________________________________________________________________________\n",
            "conv2d_163 (Conv2D)             (None, 95, 60, 16)   9232        activation_52[0][0]              \n",
            "__________________________________________________________________________________________________\n",
            "conv2d_164 (Conv2D)             (None, 95, 60, 32)   4640        conv2d_163[0][0]                 \n",
            "__________________________________________________________________________________________________\n",
            "conv2d_165 (Conv2D)             (None, 95, 60, 64)   18496       conv2d_164[0][0]                 \n",
            "__________________________________________________________________________________________________\n",
            "batch_normalization_53 (BatchNo (None, 95, 60, 64)   256         conv2d_165[0][0]                 \n",
            "__________________________________________________________________________________________________\n",
            "activation_53 (Activation)      (None, 95, 60, 64)   0           batch_normalization_53[0][0]     \n",
            "__________________________________________________________________________________________________\n",
            "conv2d_166 (Conv2D)             (None, 95, 60, 16)   9232        activation_53[0][0]              \n",
            "__________________________________________________________________________________________________\n",
            "conv2d_167 (Conv2D)             (None, 95, 60, 32)   4640        conv2d_166[0][0]                 \n",
            "__________________________________________________________________________________________________\n",
            "conv2d_168 (Conv2D)             (None, 95, 60, 64)   18496       conv2d_167[0][0]                 \n",
            "__________________________________________________________________________________________________\n",
            "add_26 (Add)                    (None, 95, 60, 64)   0           conv2d_168[0][0]                 \n",
            "                                                                 add_25[0][0]                     \n",
            "__________________________________________________________________________________________________\n",
            "batch_normalization_54 (BatchNo (None, 95, 60, 64)   256         add_26[0][0]                     \n",
            "__________________________________________________________________________________________________\n",
            "activation_54 (Activation)      (None, 95, 60, 64)   0           batch_normalization_54[0][0]     \n",
            "__________________________________________________________________________________________________\n",
            "conv2d_169 (Conv2D)             (None, 95, 60, 16)   9232        activation_54[0][0]              \n",
            "__________________________________________________________________________________________________\n",
            "conv2d_170 (Conv2D)             (None, 95, 60, 32)   4640        conv2d_169[0][0]                 \n",
            "__________________________________________________________________________________________________\n",
            "conv2d_171 (Conv2D)             (None, 95, 60, 64)   18496       conv2d_170[0][0]                 \n",
            "__________________________________________________________________________________________________\n",
            "batch_normalization_55 (BatchNo (None, 95, 60, 64)   256         conv2d_171[0][0]                 \n",
            "__________________________________________________________________________________________________\n",
            "activation_55 (Activation)      (None, 95, 60, 64)   0           batch_normalization_55[0][0]     \n",
            "__________________________________________________________________________________________________\n",
            "conv2d_172 (Conv2D)             (None, 95, 60, 16)   9232        activation_55[0][0]              \n",
            "__________________________________________________________________________________________________\n",
            "conv2d_173 (Conv2D)             (None, 95, 60, 32)   4640        conv2d_172[0][0]                 \n",
            "__________________________________________________________________________________________________\n",
            "conv2d_174 (Conv2D)             (None, 95, 60, 64)   18496       conv2d_173[0][0]                 \n",
            "__________________________________________________________________________________________________\n",
            "add_27 (Add)                    (None, 95, 60, 64)   0           conv2d_174[0][0]                 \n",
            "                                                                 add_26[0][0]                     \n",
            "__________________________________________________________________________________________________\n",
            "max_pooling2d_6 (MaxPooling2D)  (None, 13, 8, 64)    0           add_27[0][0]                     \n",
            "__________________________________________________________________________________________________\n",
            "flatten_6 (Flatten)             (None, 6656)         0           max_pooling2d_6[0][0]            \n",
            "__________________________________________________________________________________________________\n",
            "dense_11 (Dense)                (None, 5700)         37944900    flatten_6[0][0]                  \n",
            "==================================================================================================\n",
            "Total params: 38,206,212\n",
            "Trainable params: 38,205,188\n",
            "Non-trainable params: 1,024\n",
            "__________________________________________________________________________________________________\n"
          ],
          "name": "stdout"
        }
      ]
    },
    {
      "cell_type": "code",
      "metadata": {
        "id": "XabzOm8p8q2u",
        "colab_type": "code",
        "colab": {}
      },
      "source": [
        "model.compile(loss='categorical_crossentropy',\n",
        "              optimizer='adam',\n",
        "              metrics=['accuracy'])"
      ],
      "execution_count": 52,
      "outputs": []
    },
    {
      "cell_type": "code",
      "metadata": {
        "id": "FXhgFUuz8q3E",
        "colab_type": "code",
        "colab": {
          "base_uri": "https://localhost:8080/",
          "height": 1000
        },
        "outputId": "91d5109f-17f1-4a86-b537-b9b85bd272b2"
      },
      "source": [
        "model.fit(in_data,labels,epochs=30)"
      ],
      "execution_count": 54,
      "outputs": [
        {
          "output_type": "stream",
          "text": [
            "Epoch 1/30\n",
            "49/49 [==============================] - 16s 336ms/step - loss: 5.2705 - accuracy: 0.0433\n",
            "Epoch 2/30\n",
            "49/49 [==============================] - 16s 335ms/step - loss: 4.8393 - accuracy: 0.0897\n",
            "Epoch 3/30\n",
            "49/49 [==============================] - 16s 334ms/step - loss: 4.3559 - accuracy: 0.1440\n",
            "Epoch 4/30\n",
            "49/49 [==============================] - 16s 334ms/step - loss: 3.8911 - accuracy: 0.2085\n",
            "Epoch 5/30\n",
            "49/49 [==============================] - 16s 334ms/step - loss: 3.4675 - accuracy: 0.2912\n",
            "Epoch 6/30\n",
            "49/49 [==============================] - 16s 334ms/step - loss: 3.1217 - accuracy: 0.3247\n",
            "Epoch 7/30\n",
            "49/49 [==============================] - 16s 334ms/step - loss: 2.8133 - accuracy: 0.3680\n",
            "Epoch 8/30\n",
            "49/49 [==============================] - 16s 334ms/step - loss: 2.5564 - accuracy: 0.3990\n",
            "Epoch 9/30\n",
            "49/49 [==============================] - 16s 333ms/step - loss: 2.3307 - accuracy: 0.4403\n",
            "Epoch 10/30\n",
            "49/49 [==============================] - 16s 334ms/step - loss: 2.1386 - accuracy: 0.4784\n",
            "Epoch 11/30\n",
            "49/49 [==============================] - 16s 334ms/step - loss: 1.9816 - accuracy: 0.5184\n",
            "Epoch 12/30\n",
            "49/49 [==============================] - 16s 334ms/step - loss: 1.8575 - accuracy: 0.5326\n",
            "Epoch 13/30\n",
            "49/49 [==============================] - 16s 334ms/step - loss: 1.7094 - accuracy: 0.5688\n",
            "Epoch 14/30\n",
            "49/49 [==============================] - 16s 334ms/step - loss: 1.6058 - accuracy: 0.5933\n",
            "Epoch 15/30\n",
            "49/49 [==============================] - 16s 334ms/step - loss: 1.5172 - accuracy: 0.6120\n",
            "Epoch 16/30\n",
            "49/49 [==============================] - 16s 334ms/step - loss: 1.4360 - accuracy: 0.6275\n",
            "Epoch 17/30\n",
            "49/49 [==============================] - 16s 334ms/step - loss: 1.3401 - accuracy: 0.6598\n",
            "Epoch 18/30\n",
            "49/49 [==============================] - 16s 333ms/step - loss: 1.2733 - accuracy: 0.6669\n",
            "Epoch 19/30\n",
            "49/49 [==============================] - 16s 334ms/step - loss: 1.2188 - accuracy: 0.6940\n",
            "Epoch 20/30\n",
            "49/49 [==============================] - 16s 334ms/step - loss: 1.1594 - accuracy: 0.6966\n",
            "Epoch 21/30\n",
            "49/49 [==============================] - 16s 334ms/step - loss: 1.1197 - accuracy: 0.6992\n",
            "Epoch 22/30\n",
            "49/49 [==============================] - 16s 334ms/step - loss: 1.0557 - accuracy: 0.7211\n",
            "Epoch 23/30\n",
            "49/49 [==============================] - 16s 334ms/step - loss: 1.0283 - accuracy: 0.7198\n",
            "Epoch 24/30\n",
            "49/49 [==============================] - 16s 335ms/step - loss: 0.9845 - accuracy: 0.7385\n",
            "Epoch 25/30\n",
            "49/49 [==============================] - 16s 334ms/step - loss: 0.9691 - accuracy: 0.7340\n",
            "Epoch 26/30\n",
            "49/49 [==============================] - 16s 334ms/step - loss: 0.9092 - accuracy: 0.7579\n",
            "Epoch 27/30\n",
            "49/49 [==============================] - 16s 334ms/step - loss: 0.8821 - accuracy: 0.7676\n",
            "Epoch 28/30\n",
            "49/49 [==============================] - 16s 334ms/step - loss: 0.8573 - accuracy: 0.7631\n",
            "Epoch 29/30\n",
            "49/49 [==============================] - 16s 334ms/step - loss: 0.8260 - accuracy: 0.7766\n",
            "Epoch 30/30\n",
            "49/49 [==============================] - 16s 335ms/step - loss: 0.7999 - accuracy: 0.7811\n"
          ],
          "name": "stdout"
        },
        {
          "output_type": "execute_result",
          "data": {
            "text/plain": [
              "<tensorflow.python.keras.callbacks.History at 0x7f42da939588>"
            ]
          },
          "metadata": {
            "tags": []
          },
          "execution_count": 54
        }
      ]
    },
    {
      "cell_type": "code",
      "metadata": {
        "id": "nagOIzzuPs1U",
        "colab_type": "code",
        "colab": {}
      },
      "source": [
        "pred_img = model.predict(in_data[200:220])\n",
        "actual_imgs = labels[200:220]"
      ],
      "execution_count": 58,
      "outputs": []
    },
    {
      "cell_type": "code",
      "metadata": {
        "id": "4vG2YKZ1WBi-",
        "colab_type": "code",
        "colab": {
          "base_uri": "https://localhost:8080/",
          "height": 364
        },
        "outputId": "371bba80-d28d-47aa-c822-80f50bd09fce"
      },
      "source": [
        "for pred,img in zip(pred_img,actual_imgs):\n",
        "  print(\"predicted : \",np.argmax(pred),\"actual : \",np.argmax(img),\"pred : \",pred[np.argmax(pred)],\"actual : \",img[np.argmax(img)])\n"
      ],
      "execution_count": 63,
      "outputs": [
        {
          "output_type": "stream",
          "text": [
            "predicted :  3394 actual :  3394 pred :  0.969028 actual :  1.0\n",
            "predicted :  2744 actual :  2611 pred :  0.41674203 actual :  1.0\n",
            "predicted :  2612 actual :  2612 pred :  0.94489825 actual :  1.0\n",
            "predicted :  2620 actual :  2620 pred :  0.75629926 actual :  1.0\n",
            "predicted :  2609 actual :  2609 pred :  0.92785406 actual :  1.0\n",
            "predicted :  2617 actual :  2617 pred :  0.89943004 actual :  1.0\n",
            "predicted :  3393 actual :  3393 pred :  0.79716814 actual :  1.0\n",
            "predicted :  3218 actual :  3218 pred :  0.9818295 actual :  1.0\n",
            "predicted :  3033 actual :  3033 pred :  0.96911544 actual :  1.0\n",
            "predicted :  2323 actual :  2323 pred :  0.81327635 actual :  1.0\n",
            "predicted :  2324 actual :  2324 pred :  0.9798249 actual :  1.0\n",
            "predicted :  2735 actual :  2735 pred :  0.29611015 actual :  1.0\n",
            "predicted :  2736 actual :  2736 pred :  0.58262074 actual :  1.0\n",
            "predicted :  3098 actual :  2732 pred :  0.1712511 actual :  1.0\n",
            "predicted :  3572 actual :  3572 pred :  0.9261287 actual :  1.0\n",
            "predicted :  2680 actual :  2670 pred :  0.29983678 actual :  1.0\n",
            "predicted :  2615 actual :  3150 pred :  0.10719472 actual :  1.0\n",
            "predicted :  3090 actual :  3090 pred :  0.6300007 actual :  1.0\n",
            "predicted :  2549 actual :  2549 pred :  0.26305544 actual :  1.0\n",
            "predicted :  2318 actual :  2317 pred :  0.4073828 actual :  1.0\n"
          ],
          "name": "stdout"
        }
      ]
    },
    {
      "cell_type": "code",
      "metadata": {
        "id": "vbmt5rErWSzi",
        "colab_type": "code",
        "colab": {
          "base_uri": "https://localhost:8080/",
          "height": 390
        },
        "outputId": "294ddfad-c735-4c16-c207-eda75cb98928"
      },
      "source": [
        ""
      ],
      "execution_count": 12,
      "outputs": [
        {
          "output_type": "display_data",
          "data": {
            "image/png": "[encoded data removed]",
            "text/plain": [
              "<PIL.Image.Image image mode=L size=60x95 at 0x7F42E3CB79B0>"
            ]
          },
          "metadata": {
            "tags": []
          }
        },
        {
          "output_type": "stream",
          "text": [
            "[[0. 0. 0. ... 0. 0. 0.]\n",
            " [0. 0. 0. ... 0. 0. 0.]\n",
            " [0. 0. 0. ... 0. 0. 0.]\n",
            " ...\n",
            " [0. 0. 0. ... 0. 0. 0.]\n",
            " [0. 0. 0. ... 0. 0. 0.]\n",
            " [0. 0. 0. ... 0. 0. 0.]]\n",
            "[[0. 0. 0. ... 0. 0. 0.]\n",
            " [0. 0. 0. ... 0. 0. 0.]\n",
            " [0. 0. 0. ... 0. 0. 0.]\n",
            " ...\n",
            " [0. 0. 0. ... 0. 0. 0.]\n",
            " [0. 0. 0. ... 0. 0. 0.]\n",
            " [0. 0. 0. ... 0. 0. 0.]]\n",
            "float32\n",
            "1.0\n"
          ],
          "name": "stdout"
        }
      ]
    },
    {
      "cell_type": "code",
      "metadata": {
        "id": "T3-5EctMX1RT",
        "colab_type": "code",
        "colab": {}
      },
      "source": [
        ""
      ],
      "execution_count": 12,
      "outputs": []
    }
  ]
}