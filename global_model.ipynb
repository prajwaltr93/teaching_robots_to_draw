{
  "nbformat": 4,
  "nbformat_minor": 0,
  "metadata": {
    "kernelspec": {
      "display_name": "Python 3",
      "language": "python",
      "name": "python3"
    },
    "language_info": {
      "codemirror_mode": {
        "name": "ipython",
        "version": 3
      },
      "file_extension": ".py",
      "mimetype": "text/x-python",
      "name": "python",
      "nbconvert_exporter": "python",
      "pygments_lexer": "ipython3",
      "version": "3.6.9"
    },
    "colab": {
      "name": "res_net_2blocks.ipynb",
      "provenance": [],
      "collapsed_sections": []
    },
    "accelerator": "GPU"
  },
  "cells": [
    {
      "cell_type": "code",
      "metadata": {
        "id": "hqOP7BuB8q1E",
        "colab_type": "code",
        "colab": {
          "base_uri": "https://localhost:8080/",
          "height": 124
        },
        "outputId": "a549e9d5-48a5-47a9-d885-329c39f65091"
      },
      "source": [
        "#mount GDrive\n",
        "from google.colab import drive\n",
        "drive.mount('/content/gdrive')\n"
      ],
      "execution_count": 4,
      "outputs": [
        {
          "output_type": "stream",
          "text": [
            "Go to this URL in a browser: https://accounts.google.com/o/oauth2/auth?client_id=947318989803-6bn6qk8qdgf4n4g3pfee6491hc0brc4i.apps.googleusercontent.com&redirect_uri=urn%3aietf%3awg%3aoauth%3a2.0%3aoob&scope=email%20https%3a%2f%2fwww.googleapis.com%2fauth%2fdocs.test%20https%3a%2f%2fwww.googleapis.com%2fauth%2fdrive%20https%3a%2f%2fwww.googleapis.com%2fauth%2fdrive.photos.readonly%20https%3a%2f%2fwww.googleapis.com%2fauth%2fpeopleapi.readonly&response_type=code\n",
            "\n",
            "Enter your authorization code:\n",
            "··········\n",
            "Mounted at /content/gdrive\n"
          ],
          "name": "stdout"
        }
      ]
    },
    {
      "cell_type": "code",
      "metadata": {
        "id": "tv2Zht62NhoL",
        "colab_type": "code",
        "colab": {
          "base_uri": "https://localhost:8080/",
          "height": 34
        },
        "outputId": "694ca7f6-9b0a-4d8a-ba34-dd2b9246e40c"
      },
      "source": [
        "import tensorflow as tf\n",
        "print(tf.__version__)"
      ],
      "execution_count": 5,
      "outputs": [
        {
          "output_type": "stream",
          "text": [
            "2.3.0\n"
          ],
          "name": "stdout"
        }
      ]
    },
    {
      "cell_type": "code",
      "metadata": {
        "id": "T4L1RX5WOMgJ",
        "colab_type": "code",
        "colab": {}
      },
      "source": [
        "import os\n",
        "\n",
        "os.chdir(\"/content/gdrive/My Drive/data/hershey_data\")"
      ],
      "execution_count": 6,
      "outputs": []
    },
    {
      "cell_type": "code",
      "metadata": {
        "id": "0xTzb8iu8q1i",
        "colab_type": "code",
        "colab": {}
      },
      "source": [
        "import pickle as pic\n",
        "import numpy as np\n",
        "\n",
        "from tensorflow.keras.models import Model\n",
        "from tensorflow.keras.layers import Input\n",
        "from tensorflow.keras.layers import Activation\n",
        "from tensorflow.keras.layers import Conv2D\n",
        "from tensorflow.keras.layers import Dense\n",
        "from tensorflow.keras.layers import Flatten\n",
        "from tensorflow.keras.layers import MaxPooling2D\n",
        "from tensorflow.keras.layers import add\n",
        "from tensorflow.keras.utils import plot_model\n",
        "from tensorflow.keras.layers import BatchNormalization\n",
        "from keras.optimizers import SGD\n",
        "from tensorflow.keras.utils import Sequence\n"
      ],
      "execution_count": 7,
      "outputs": []
    },
    {
      "cell_type": "code",
      "metadata": {
        "id": "gCKuje_eYaNW",
        "colab_type": "code",
        "colab": {}
      },
      "source": [
        "#data generator\n",
        "def data_gen(file_list,batch_size):\n",
        "\n",
        "    while True:\n",
        "        for file in file_list:\n",
        "            #load data\n",
        "            data = pic.load(open(file,'rb'),encoding=\"bytes\")\n",
        "            cur_len = len(data['sG_data'])\n",
        "            for i in range(0,cur_len,batch_size):\n",
        "                x = data['sG_data'][i:i+batch_size]\n",
        "                y = data['sG_labels'][i:i+batch_size]\n",
        "                yield x,y\n",
        "                x = []\n",
        "                y = []"
      ],
      "execution_count": 8,
      "outputs": []
    },
    {
      "cell_type": "code",
      "metadata": {
        "id": "rcTWmobS8q1_",
        "colab_type": "code",
        "colab": {}
      },
      "source": [
        "no_files = 2\n",
        "files_train = [\"data_batch_\"+i.__str__() for i in range(no_files)] #two files\n",
        "total_len = 0\n",
        "# get total sample length of two files\n",
        "for file in files_train:\n",
        "  total_len += len(pic.load(open(file,'rb'),encoding=\"bytes\")['sG_data'])"
      ],
      "execution_count": 9,
      "outputs": []
    },
    {
      "cell_type": "code",
      "metadata": {
        "id": "xcYKYArK8q2X",
        "colab_type": "code",
        "colab": {
          "base_uri": "https://localhost:8080/",
          "height": 1000
        },
        "outputId": "ff862158-28f2-4dd8-c1c3-178590428ffe"
      },
      "source": [
        "#residual module\n",
        "def res_module(inp):\n",
        "    if not inp.shape[-1] == 64:\n",
        "        #project with 1x1 convolution\n",
        "        inp = Conv2D(64,1,activation=\"relu\")(inp)\n",
        "    x = BatchNormalization()(inp)\n",
        "    x = Activation(\"relu\")(x)\n",
        "    x = Conv2D(16, 3,padding=\"same\",activation=\"sigmoid\")(x)\n",
        "    x = Conv2D(32, 3,padding=\"same\",activation=\"sigmoid\")(x)\n",
        "    x = Conv2D(64, 3,padding=\"same\",activation=\"sigmoid\")(x)\n",
        "    x = BatchNormalization()(x)\n",
        "    x = Activation(\"relu\")(x)\n",
        "    x = Conv2D(16, 3,padding=\"same\",activation=\"sigmoid\")(x)\n",
        "    x = Conv2D(32, 3,padding=\"same\",activation=\"sigmoid\")(x)\n",
        "    x = Conv2D(64, 3,padding=\"same\",activation=\"sigmoid\")(x)\n",
        "    out = add([x, inp])\n",
        "    return out\n",
        "\n",
        "#two block res module\n",
        "inp = Input(shape=(95, 60, 4))\n",
        "x_a = res_module(inp)\n",
        "x_a = res_module(x_a)\n",
        "x_a = res_module(x_a)\n",
        "x_a = res_module(x_a)\n",
        "x_a = MaxPooling2D(7)(x_a)\n",
        "x_a = Flatten()(x_a)\n",
        "out = Dense(5700,activation='softmax')(x_a)\n",
        "# create model\n",
        "model = Model(inputs=inp, outputs=out)\n",
        "# summarize model\n",
        "model.summary()\n"
      ],
      "execution_count": 22,
      "outputs": [
        {
          "output_type": "stream",
          "text": [
            "Model: \"functional_3\"\n",
            "__________________________________________________________________________________________________\n",
            "Layer (type)                    Output Shape         Param #     Connected to                     \n",
            "==================================================================================================\n",
            "input_2 (InputLayer)            [(None, 95, 60, 4)]  0                                            \n",
            "__________________________________________________________________________________________________\n",
            "conv2d_25 (Conv2D)              (None, 95, 60, 64)   320         input_2[0][0]                    \n",
            "__________________________________________________________________________________________________\n",
            "batch_normalization_8 (BatchNor (None, 95, 60, 64)   256         conv2d_25[0][0]                  \n",
            "__________________________________________________________________________________________________\n",
            "activation_8 (Activation)       (None, 95, 60, 64)   0           batch_normalization_8[0][0]      \n",
            "__________________________________________________________________________________________________\n",
            "conv2d_26 (Conv2D)              (None, 95, 60, 16)   9232        activation_8[0][0]               \n",
            "__________________________________________________________________________________________________\n",
            "conv2d_27 (Conv2D)              (None, 95, 60, 32)   4640        conv2d_26[0][0]                  \n",
            "__________________________________________________________________________________________________\n",
            "conv2d_28 (Conv2D)              (None, 95, 60, 64)   18496       conv2d_27[0][0]                  \n",
            "__________________________________________________________________________________________________\n",
            "batch_normalization_9 (BatchNor (None, 95, 60, 64)   256         conv2d_28[0][0]                  \n",
            "__________________________________________________________________________________________________\n",
            "activation_9 (Activation)       (None, 95, 60, 64)   0           batch_normalization_9[0][0]      \n",
            "__________________________________________________________________________________________________\n",
            "conv2d_29 (Conv2D)              (None, 95, 60, 16)   9232        activation_9[0][0]               \n",
            "__________________________________________________________________________________________________\n",
            "conv2d_30 (Conv2D)              (None, 95, 60, 32)   4640        conv2d_29[0][0]                  \n",
            "__________________________________________________________________________________________________\n",
            "conv2d_31 (Conv2D)              (None, 95, 60, 64)   18496       conv2d_30[0][0]                  \n",
            "__________________________________________________________________________________________________\n",
            "add_4 (Add)                     (None, 95, 60, 64)   0           conv2d_31[0][0]                  \n",
            "                                                                 conv2d_25[0][0]                  \n",
            "__________________________________________________________________________________________________\n",
            "batch_normalization_10 (BatchNo (None, 95, 60, 64)   256         add_4[0][0]                      \n",
            "__________________________________________________________________________________________________\n",
            "activation_10 (Activation)      (None, 95, 60, 64)   0           batch_normalization_10[0][0]     \n",
            "__________________________________________________________________________________________________\n",
            "conv2d_32 (Conv2D)              (None, 95, 60, 16)   9232        activation_10[0][0]              \n",
            "__________________________________________________________________________________________________\n",
            "conv2d_33 (Conv2D)              (None, 95, 60, 32)   4640        conv2d_32[0][0]                  \n",
            "__________________________________________________________________________________________________\n",
            "conv2d_34 (Conv2D)              (None, 95, 60, 64)   18496       conv2d_33[0][0]                  \n",
            "__________________________________________________________________________________________________\n",
            "batch_normalization_11 (BatchNo (None, 95, 60, 64)   256         conv2d_34[0][0]                  \n",
            "__________________________________________________________________________________________________\n",
            "activation_11 (Activation)      (None, 95, 60, 64)   0           batch_normalization_11[0][0]     \n",
            "__________________________________________________________________________________________________\n",
            "conv2d_35 (Conv2D)              (None, 95, 60, 16)   9232        activation_11[0][0]              \n",
            "__________________________________________________________________________________________________\n",
            "conv2d_36 (Conv2D)              (None, 95, 60, 32)   4640        conv2d_35[0][0]                  \n",
            "__________________________________________________________________________________________________\n",
            "conv2d_37 (Conv2D)              (None, 95, 60, 64)   18496       conv2d_36[0][0]                  \n",
            "__________________________________________________________________________________________________\n",
            "add_5 (Add)                     (None, 95, 60, 64)   0           conv2d_37[0][0]                  \n",
            "                                                                 add_4[0][0]                      \n",
            "__________________________________________________________________________________________________\n",
            "batch_normalization_12 (BatchNo (None, 95, 60, 64)   256         add_5[0][0]                      \n",
            "__________________________________________________________________________________________________\n",
            "activation_12 (Activation)      (None, 95, 60, 64)   0           batch_normalization_12[0][0]     \n",
            "__________________________________________________________________________________________________\n",
            "conv2d_38 (Conv2D)              (None, 95, 60, 16)   9232        activation_12[0][0]              \n",
            "__________________________________________________________________________________________________\n",
            "conv2d_39 (Conv2D)              (None, 95, 60, 32)   4640        conv2d_38[0][0]                  \n",
            "__________________________________________________________________________________________________\n",
            "conv2d_40 (Conv2D)              (None, 95, 60, 64)   18496       conv2d_39[0][0]                  \n",
            "__________________________________________________________________________________________________\n",
            "batch_normalization_13 (BatchNo (None, 95, 60, 64)   256         conv2d_40[0][0]                  \n",
            "__________________________________________________________________________________________________\n",
            "activation_13 (Activation)      (None, 95, 60, 64)   0           batch_normalization_13[0][0]     \n",
            "__________________________________________________________________________________________________\n",
            "conv2d_41 (Conv2D)              (None, 95, 60, 16)   9232        activation_13[0][0]              \n",
            "__________________________________________________________________________________________________\n",
            "conv2d_42 (Conv2D)              (None, 95, 60, 32)   4640        conv2d_41[0][0]                  \n",
            "__________________________________________________________________________________________________\n",
            "conv2d_43 (Conv2D)              (None, 95, 60, 64)   18496       conv2d_42[0][0]                  \n",
            "__________________________________________________________________________________________________\n",
            "add_6 (Add)                     (None, 95, 60, 64)   0           conv2d_43[0][0]                  \n",
            "                                                                 add_5[0][0]                      \n",
            "__________________________________________________________________________________________________\n",
            "batch_normalization_14 (BatchNo (None, 95, 60, 64)   256         add_6[0][0]                      \n",
            "__________________________________________________________________________________________________\n",
            "activation_14 (Activation)      (None, 95, 60, 64)   0           batch_normalization_14[0][0]     \n",
            "__________________________________________________________________________________________________\n",
            "conv2d_44 (Conv2D)              (None, 95, 60, 16)   9232        activation_14[0][0]              \n",
            "__________________________________________________________________________________________________\n",
            "conv2d_45 (Conv2D)              (None, 95, 60, 32)   4640        conv2d_44[0][0]                  \n",
            "__________________________________________________________________________________________________\n",
            "conv2d_46 (Conv2D)              (None, 95, 60, 64)   18496       conv2d_45[0][0]                  \n",
            "__________________________________________________________________________________________________\n",
            "batch_normalization_15 (BatchNo (None, 95, 60, 64)   256         conv2d_46[0][0]                  \n",
            "__________________________________________________________________________________________________\n",
            "activation_15 (Activation)      (None, 95, 60, 64)   0           batch_normalization_15[0][0]     \n",
            "__________________________________________________________________________________________________\n",
            "conv2d_47 (Conv2D)              (None, 95, 60, 16)   9232        activation_15[0][0]              \n",
            "__________________________________________________________________________________________________\n",
            "conv2d_48 (Conv2D)              (None, 95, 60, 32)   4640        conv2d_47[0][0]                  \n",
            "__________________________________________________________________________________________________\n",
            "conv2d_49 (Conv2D)              (None, 95, 60, 64)   18496       conv2d_48[0][0]                  \n",
            "__________________________________________________________________________________________________\n",
            "add_7 (Add)                     (None, 95, 60, 64)   0           conv2d_49[0][0]                  \n",
            "                                                                 add_6[0][0]                      \n",
            "__________________________________________________________________________________________________\n",
            "max_pooling2d_1 (MaxPooling2D)  (None, 13, 8, 64)    0           add_7[0][0]                      \n",
            "__________________________________________________________________________________________________\n",
            "flatten_1 (Flatten)             (None, 6656)         0           max_pooling2d_1[0][0]            \n",
            "__________________________________________________________________________________________________\n",
            "dense_1 (Dense)                 (None, 5700)         37944900    flatten_1[0][0]                  \n",
            "==================================================================================================\n",
            "Total params: 38,206,212\n",
            "Trainable params: 38,205,188\n",
            "Non-trainable params: 1,024\n",
            "__________________________________________________________________________________________________\n"
          ],
          "name": "stdout"
        }
      ]
    },
    {
      "cell_type": "code",
      "metadata": {
        "id": "XabzOm8p8q2u",
        "colab_type": "code",
        "colab": {}
      },
      "source": [
        "model.compile(loss='categorical_crossentropy',\n",
        "              optimizer='adam',\n",
        "              metrics=['accuracy'])"
      ],
      "execution_count": 23,
      "outputs": []
    },
    {
      "cell_type": "code",
      "metadata": {
        "id": "FXhgFUuz8q3E",
        "colab_type": "code",
        "colab": {
          "base_uri": "https://localhost:8080/",
          "height": 72
        },
        "outputId": "250adaff-991c-4ead-a6b5-54a2aee43d4b"
      },
      "source": [
        "# data_gen_obj = data_gen(files_train, 64, total_len)\n",
        "history = model.fit(data_gen(files_train,100),steps_per_epoch=total_len // 100,epochs=1)"
      ],
      "execution_count": 35,
      "outputs": [
        {
          "output_type": "stream",
          "text": [
            " 2/30 [=>............................] - ETA: 6s - loss: 0.1229 - accuracy: 0.9750WARNING:tensorflow:Callbacks method `on_train_batch_end` is slow compared to the batch time (batch time: 0.0995s vs `on_train_batch_end` time: 0.1780s). Check your callbacks.\n",
            "30/30 [==============================] - 9s 290ms/step - loss: 0.1216 - accuracy: 0.9810\n"
          ],
          "name": "stdout"
        }
      ]
    },
    {
      "cell_type": "code",
      "metadata": {
        "id": "nagOIzzuPs1U",
        "colab_type": "code",
        "colab": {}
      },
      "source": [
        "x,y = next(data_gen(files_train,100))\n",
        "pred_img = model.predict(x)\n",
        "actual_imgs = y"
      ],
      "execution_count": 30,
      "outputs": []
    },
    {
      "cell_type": "code",
      "metadata": {
        "id": "4vG2YKZ1WBi-",
        "colab_type": "code",
        "colab": {
          "base_uri": "https://localhost:8080/",
          "height": 1000
        },
        "outputId": "5802ffd3-a09f-4363-dc0c-6b9beff5229e"
      },
      "source": [
        "for pred,img in zip(pred_img,actual_imgs):\n",
        "  print(\"predicted : \",np.argmax(pred),\"actual : \",np.argmax(img),\"pred : \",pred[np.argmax(pred)],\" actual : \",img[np.argmax(img)])\n"
      ],
      "execution_count": 31,
      "outputs": [
        {
          "output_type": "stream",
          "text": [
            "predicted :  3453 actual :  3453 pred :  0.94237226  actual :  1.0\n",
            "predicted :  2318 actual :  2318 pred :  0.3487612  actual :  1.0\n",
            "predicted :  3219 actual :  3219 pred :  0.99923074  actual :  1.0\n",
            "predicted :  2909 actual :  2909 pred :  0.9804081  actual :  1.0\n",
            "predicted :  2790 actual :  2790 pred :  0.930958  actual :  1.0\n",
            "predicted :  2377 actual :  2377 pred :  0.9694047  actual :  1.0\n",
            "predicted :  2558 actual :  2558 pred :  0.8607203  actual :  1.0\n",
            "predicted :  2318 actual :  2318 pred :  0.92120266  actual :  1.0\n",
            "predicted :  3455 actual :  3455 pred :  0.9835032  actual :  1.0\n",
            "predicted :  2736 actual :  2736 pred :  0.633538  actual :  1.0\n",
            "predicted :  2796 actual :  2796 pred :  0.897684  actual :  1.0\n",
            "predicted :  3393 actual :  3393 pred :  0.80248106  actual :  1.0\n",
            "predicted :  3453 actual :  3453 pred :  0.9632157  actual :  1.0\n",
            "predicted :  2440 actual :  2440 pred :  0.8535797  actual :  1.0\n",
            "predicted :  2435 actual :  2435 pred :  0.75446314  actual :  1.0\n",
            "predicted :  2317 actual :  2317 pred :  0.31332782  actual :  1.0\n",
            "predicted :  2730 actual :  2730 pred :  0.7465821  actual :  1.0\n",
            "predicted :  3570 actual :  3570 pred :  0.9742492  actual :  1.0\n",
            "predicted :  3513 actual :  3513 pred :  0.89943844  actual :  1.0\n",
            "predicted :  3454 actual :  3453 pred :  0.53725123  actual :  1.0\n",
            "predicted :  3455 actual :  3455 pred :  0.6109556  actual :  1.0\n",
            "predicted :  3515 actual :  3515 pred :  0.7072195  actual :  1.0\n",
            "predicted :  2913 actual :  2913 pred :  0.9591944  actual :  1.0\n",
            "predicted :  2429 actual :  2429 pred :  0.9999665  actual :  1.0\n",
            "predicted :  2547 actual :  2547 pred :  0.9839505  actual :  1.0\n",
            "predicted :  3387 actual :  3387 pred :  0.99966717  actual :  1.0\n",
            "predicted :  3391 actual :  3391 pred :  0.9949823  actual :  1.0\n",
            "predicted :  3269 actual :  3269 pred :  0.9959286  actual :  1.0\n",
            "predicted :  3402 actual :  3402 pred :  0.9977048  actual :  1.0\n",
            "predicted :  3701 actual :  3701 pred :  0.9988176  actual :  1.0\n",
            "predicted :  2378 actual :  2378 pred :  0.9518424  actual :  1.0\n",
            "predicted :  2437 actual :  2437 pred :  0.9904723  actual :  1.0\n",
            "predicted :  2672 actual :  2672 pred :  0.99891305  actual :  1.0\n",
            "predicted :  2321 actual :  2321 pred :  0.9829336  actual :  1.0\n",
            "predicted :  2857 actual :  2857 pred :  0.9689029  actual :  1.0\n",
            "predicted :  2857 actual :  2857 pred :  0.98610467  actual :  1.0\n",
            "predicted :  2317 actual :  2317 pred :  0.36941072  actual :  1.0\n",
            "predicted :  2911 actual :  2911 pred :  0.87170506  actual :  1.0\n",
            "predicted :  2726 actual :  2726 pred :  0.96884257  actual :  1.0\n",
            "predicted :  2727 actual :  2727 pred :  0.85103804  actual :  1.0\n",
            "predicted :  2723 actual :  2723 pred :  0.98571324  actual :  1.0\n",
            "predicted :  3563 actual :  3563 pred :  0.99018097  actual :  1.0\n",
            "predicted :  2739 actual :  2739 pred :  0.9837076  actual :  1.0\n",
            "predicted :  2739 actual :  2739 pred :  0.8495851  actual :  1.0\n",
            "predicted :  3581 actual :  3581 pred :  0.9997379  actual :  1.0\n",
            "predicted :  3147 actual :  3147 pred :  0.98862445  actual :  1.0\n",
            "predicted :  2316 actual :  2316 pred :  0.43208653  actual :  1.0\n",
            "predicted :  2555 actual :  2555 pred :  0.89725477  actual :  1.0\n",
            "predicted :  3027 actual :  3027 pred :  0.9989472  actual :  1.0\n",
            "predicted :  3567 actual :  3567 pred :  0.9998337  actual :  1.0\n",
            "predicted :  2741 actual :  2741 pred :  0.7558487  actual :  1.0\n",
            "predicted :  2730 actual :  2730 pred :  0.84662163  actual :  1.0\n",
            "predicted :  3570 actual :  3570 pred :  0.9630066  actual :  1.0\n",
            "predicted :  2366 actual :  2366 pred :  0.9817986  actual :  1.0\n",
            "predicted :  2366 actual :  2366 pred :  0.99966896  actual :  1.0\n",
            "predicted :  2853 actual :  2853 pred :  0.998679  actual :  1.0\n",
            "predicted :  2913 actual :  2913 pred :  0.9385282  actual :  1.0\n",
            "predicted :  3459 actual :  3459 pred :  0.9529937  actual :  1.0\n",
            "predicted :  2670 actual :  2670 pred :  0.8742803  actual :  1.0\n",
            "predicted :  2670 actual :  2670 pred :  0.90580446  actual :  1.0\n",
            "predicted :  2792 actual :  2792 pred :  0.9648953  actual :  1.0\n",
            "predicted :  2854 actual :  2854 pred :  0.75291353  actual :  1.0\n",
            "predicted :  2619 actual :  2619 pred :  0.5842213  actual :  1.0\n",
            "predicted :  2678 actual :  2678 pred :  0.8514092  actual :  1.0\n",
            "predicted :  3400 actual :  3400 pred :  0.9461763  actual :  1.0\n",
            "predicted :  3278 actual :  3278 pred :  0.96172005  actual :  1.0\n",
            "predicted :  3216 actual :  3216 pred :  0.9679905  actual :  1.0\n",
            "predicted :  3271 actual :  3271 pred :  0.9511067  actual :  1.0\n",
            "predicted :  3390 actual :  3390 pred :  0.95739394  actual :  1.0\n",
            "predicted :  2735 actual :  2735 pred :  0.9585772  actual :  1.0\n",
            "predicted :  2735 actual :  2735 pred :  0.9994653  actual :  1.0\n",
            "predicted :  3093 actual :  3093 pred :  0.93216085  actual :  1.0\n",
            "predicted :  2436 actual :  2436 pred :  0.99557364  actual :  1.0\n",
            "predicted :  2921 actual :  2921 pred :  0.8045922  actual :  1.0\n",
            "predicted :  2738 actual :  2738 pred :  0.8500735  actual :  1.0\n",
            "predicted :  3026 actual :  3026 pred :  0.9987035  actual :  1.0\n",
            "predicted :  2075 actual :  2075 pred :  0.9972288  actual :  1.0\n",
            "predicted :  2975 actual :  2975 pred :  0.70532036  actual :  1.0\n",
            "predicted :  2307 actual :  2307 pred :  0.9096025  actual :  1.0\n",
            "predicted :  2314 actual :  2314 pred :  0.86812997  actual :  1.0\n",
            "predicted :  2375 actual :  2375 pred :  0.7788158  actual :  1.0\n",
            "predicted :  2316 actual :  2316 pred :  0.9556083  actual :  1.0\n",
            "predicted :  2323 actual :  2323 pred :  0.9551051  actual :  1.0\n",
            "predicted :  2307 actual :  2307 pred :  0.9760029  actual :  1.0\n",
            "predicted :  3571 actual :  3571 pred :  0.9742448  actual :  1.0\n",
            "predicted :  2308 actual :  2308 pred :  0.7898756  actual :  1.0\n",
            "predicted :  2309 actual :  2309 pred :  0.91115236  actual :  1.0\n",
            "predicted :  2310 actual :  2310 pred :  0.5994868  actual :  1.0\n",
            "predicted :  2310 actual :  2312 pred :  0.53811646  actual :  1.0\n",
            "predicted :  2318 actual :  2318 pred :  0.8700892  actual :  1.0\n",
            "predicted :  2321 actual :  2320 pred :  0.48155484  actual :  1.0\n",
            "predicted :  2320 actual :  2321 pred :  0.37775522  actual :  1.0\n",
            "predicted :  2322 actual :  2322 pred :  0.80673164  actual :  1.0\n",
            "predicted :  3514 actual :  3514 pred :  0.99835277  actual :  1.0\n",
            "predicted :  3454 actual :  3454 pred :  0.9931213  actual :  1.0\n",
            "predicted :  3456 actual :  3456 pred :  0.9933467  actual :  1.0\n",
            "predicted :  3516 actual :  3516 pred :  0.9918451  actual :  1.0\n",
            "predicted :  2379 actual :  2379 pred :  0.9935836  actual :  1.0\n",
            "predicted :  2315 actual :  2315 pred :  0.9429106  actual :  1.0\n",
            "predicted :  2385 actual :  2385 pred :  0.8411675  actual :  1.0\n"
          ],
          "name": "stdout"
        }
      ]
    },
    {
      "cell_type": "code",
      "metadata": {
        "id": "vbmt5rErWSzi",
        "colab_type": "code",
        "colab": {
          "base_uri": "https://localhost:8080/",
          "height": 34
        },
        "outputId": "2518d426-2ef5-4803-a46b-32d6a1c593d4"
      },
      "source": [
        "#plotting history object \n",
        "import matplotlib.pyplot as plt\n",
        "\n",
        "print(history.history.keys())"
      ],
      "execution_count": 32,
      "outputs": [
        {
          "output_type": "stream",
          "text": [
            "dict_keys(['loss', 'accuracy'])\n"
          ],
          "name": "stdout"
        }
      ]
    },
    {
      "cell_type": "code",
      "metadata": {
        "id": "T3-5EctMX1RT",
        "colab_type": "code",
        "colab": {
          "base_uri": "https://localhost:8080/",
          "height": 295
        },
        "outputId": "c8546d87-5b60-4ac6-97b8-618ad52c566a"
      },
      "source": [
        "plt.plot(history.history['loss'])\n",
        "plt.plot(history.history['accuracy'])\n",
        "plt.title('model loss')\n",
        "plt.ylabel('loss and accuracy')\n",
        "plt.xlabel('epoch')\n",
        "plt.legend(['loss', 'accuracy'], loc='upper left')\n",
        "plt.show()"
      ],
      "execution_count": 34,
      "outputs": [
        {
          "output_type": "display_data",
          "data": {
            "image/png": "[encoded data removed]",
            "text/plain": [
              "<Figure size 432x288 with 1 Axes>"
            ]
          },
          "metadata": {
            "tags": [],
            "needs_background": "light"
          }
        }
      ]
    },
    {
      "cell_type": "code",
      "metadata": {
        "id": "0Aw3ELxWe5IW",
        "colab_type": "code",
        "colab": {}
      },
      "source": [
        ""
      ],
      "execution_count": null,
      "outputs": []
    }
  ]
}